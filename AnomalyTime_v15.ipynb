{
  "nbformat": 4,
  "nbformat_minor": 0,
  "metadata": {
    "colab": {
      "provenance": [],
      "collapsed_sections": [
        "SVTY8J3aOvkG",
        "vL95JCel1w9X",
        "ubmSrbtZ9upb",
        "tsDltk5U6O3e",
        "8jpJjtqs7vwO",
        "x77U8vU774QS",
        "omA3_2mh8L46",
        "DTNQShAv8RUL",
        "ktzC2hUY8U8k",
        "rewK6FB-BKa3"
      ],
      "toc_visible": true,
      "include_colab_link": true
    },
    "kernelspec": {
      "name": "python3",
      "display_name": "Python 3"
    },
    "language_info": {
      "name": "python"
    }
  },
  "cells": [
    {
      "cell_type": "markdown",
      "metadata": {
        "id": "view-in-github",
        "colab_type": "text"
      },
      "source": [
        "<a href=\"https://colab.research.google.com/github/ArtuomMerkulov/Anomaly_detection/blob/main/AnomalyTime_v15.ipynb\" target=\"_parent\"><img src=\"https://colab.research.google.com/assets/colab-badge.svg\" alt=\"Open In Colab\"/></a>"
      ]
    },
    {
      "cell_type": "markdown",
      "source": [
        "## Install_lib"
      ],
      "metadata": {
        "id": "QGBUBFhQOo0S"
      }
    },
    {
      "cell_type": "code",
      "source": [
        "%pip install numpy >> None\n",
        "%pip install tensorflow >> None\n",
        "%pip install pandas >> None\n",
        "%pip install seaborn >> None\n",
        "%pip install matplotlib >> None\n",
        "%pip install plotly >> None\n",
        "%pip install salesforce-merlion >> None\n",
        "%pip install torch >> None\n",
        "%pip install \"gluonts[torch]\" >> None\n",
        "%pip install darts >> None\n",
        "%pip install pypots >> None\n",
        "%pip install fastdtw >> None"
      ],
      "metadata": {
        "id": "yo3KqkIV1Q9Q"
      },
      "execution_count": null,
      "outputs": []
    },
    {
      "cell_type": "code",
      "source": [
        "# main\n",
        "import numpy as np\n",
        "import pandas as pd\n",
        "import warnings\n",
        "import seaborn as sns\n",
        "from statsmodels.tsa.stattools import adfuller\n",
        "#from binance import Client\n",
        "#from dotenv import dotenv_values\n",
        "from datetime import datetime\n",
        "import matplotlib.pyplot as plt\n",
        "from matplotlib.patches import Rectangle\n",
        "import csv\n",
        "\n",
        "# graph\n",
        "from matplotlib.pylab import rcParams\n",
        "import matplotlib.pyplot as plt\n",
        "import plotly.express as px\n",
        "import plotly.graph_objects as go\n",
        "\n",
        "# model\n",
        "import tensorflow as tf\n",
        "from sklearn.preprocessing import StandardScaler\n",
        "from sklearn.model_selection import train_test_split\n",
        "from tensorflow.keras.models import Sequential\n",
        "from tensorflow.keras.layers import Dense, LSTM, Dropout, RepeatVector, TimeDistributed\n",
        "from tensorflow.keras.regularizers import L1L2\n",
        "from tensorflow.keras.callbacks import EarlyStopping\n",
        "import torch\n",
        "import torch.optim as optim\n",
        "from torch.utils.data import DataLoader, TensorDataset\n",
        "from torch import nn\n",
        "\n",
        "# frameworks\n",
        "import prophet\n",
        "from merlion.utils import TimeSeries\n",
        "#from fbprophet import Prophet\n",
        "#from fbprophet.diagnostics import cross_validation\n",
        "#from fbprophet.diagnostics import performance_metrics\n",
        "#from fbprophet.plot import plot_cross_validation_metric\n",
        "#from orion import Orion\n",
        "#from orion.analysis import analyze\n",
        "#from orion.data import load_signal\n",
        "#from orion.primitives.tadgan import TadGAN\n",
        "\n",
        "# Darts---------------------------------------------\n",
        "# https://github.com/unit8co/darts\n",
        "from darts import TimeSeries\n",
        "from darts.datasets import ETTh2Dataset\n",
        "from darts.ad import KMeansScorer\n",
        "from darts.ad import QuantileDetector\n",
        "from darts.dataprocessing.transformers import Scaler\n",
        "\n",
        "# PyPots--------------------------------------------\n",
        "from pygrinder import mcar\n",
        "from pypots.data import load_specific_dataset"
      ],
      "metadata": {
        "id": "NRAqWClt1e2f"
      },
      "execution_count": null,
      "outputs": []
    },
    {
      "cell_type": "markdown",
      "source": [
        "## Check_pre"
      ],
      "metadata": {
        "id": "1wZrWnUuOzg9"
      }
    },
    {
      "cell_type": "code",
      "source": [
        "from google.colab import drive\n",
        "drive.mount('/content/drive')"
      ],
      "metadata": {
        "colab": {
          "base_uri": "https://localhost:8080/"
        },
        "id": "9Btx2iVifKVk",
        "outputId": "ece939c7-e34a-41f0-8f82-d73d685fd6c9"
      },
      "execution_count": null,
      "outputs": [
        {
          "output_type": "stream",
          "name": "stdout",
          "text": [
            "Mounted at /content/drive\n"
          ]
        }
      ]
    },
    {
      "cell_type": "code",
      "source": [
        "!unzip /content/drive/MyDrive/Кейс_1.zip"
      ],
      "metadata": {
        "colab": {
          "base_uri": "https://localhost:8080/"
        },
        "id": "q_G3W-c4fLLN",
        "outputId": "8dbeeeb2-b26d-4d02-abf1-04c1dbc94a19"
      },
      "execution_count": null,
      "outputs": [
        {
          "output_type": "stream",
          "name": "stdout",
          "text": [
            "unzip:  cannot find or open /content/drive/MyDrive/Кейс_1.zip, /content/drive/MyDrive/Кейс_1.zip.zip or /content/drive/MyDrive/Кейс_1.zip.ZIP.\n"
          ]
        }
      ]
    },
    {
      "cell_type": "code",
      "source": [
        "warnings.filterwarnings('ignore')\n",
        "sns.set(style='whitegrid', palette='muted')\n",
        "rcParams['figure.figsize'] = 16, 6\n",
        "np.random.seed(1)\n",
        "tf.random.set_seed(1)\n",
        "print('Tensorflow version:', tf.__version__)\n",
        "print(prophet.__version__)"
      ],
      "metadata": {
        "colab": {
          "base_uri": "https://localhost:8080/"
        },
        "id": "GEqp2_EF1oTn",
        "outputId": "394db36e-4a03-4614-f991-e7038383a606"
      },
      "execution_count": null,
      "outputs": [
        {
          "output_type": "stream",
          "name": "stdout",
          "text": [
            "Tensorflow version: 2.15.0\n",
            "1.1.5\n"
          ]
        }
      ]
    },
    {
      "cell_type": "markdown",
      "source": [
        "## Import_and_convert_data"
      ],
      "metadata": {
        "id": "gc419FOvSIqJ"
      }
    },
    {
      "cell_type": "code",
      "source": [
        "df = pd.read_csv('/content/drive/MyDrive/metrics_collector_v_01.csv')\n",
        "df"
      ],
      "metadata": {
        "id": "tfY9TjPKUUxH",
        "colab": {
          "base_uri": "https://localhost:8080/",
          "height": 790
        },
        "outputId": "93ae1881-cc57-4c40-9b3a-67d3102c0b85"
      },
      "execution_count": null,
      "outputs": [
        {
          "output_type": "execute_result",
          "data": {
            "text/plain": [
              "         1              AgentCheck/CircuitBreaker/tripped/all  \\\n",
              "0        1              AgentCheck/CircuitBreaker/tripped/all   \n",
              "1        1              AgentCheck/CircuitBreaker/tripped/all   \n",
              "2        1              AgentCheck/CircuitBreaker/tripped/all   \n",
              "3        1              AgentCheck/CircuitBreaker/tripped/all   \n",
              "4        1              AgentCheck/CircuitBreaker/tripped/all   \n",
              "...     ..                                                ...   \n",
              "3732057  1  Threads/State/New Relic HttpURLConnection Segm...   \n",
              "3732058  1  Threads/State/New Relic HttpURLConnection Segm...   \n",
              "3732059  1  Threads/State/New Relic HttpURLConnection Segm...   \n",
              "3732060  1  Threads/State/New Relic HttpURLConnection Segm...   \n",
              "3732061  1                     Threads/State/New Relic HttpUR   \n",
              "\n",
              "         2024-04-15 23:32:00    0  0.1  0.2  0.3  0.4  0.5  1.1  java  \\\n",
              "0        2024-04-15 23:33:00  0.0  0.0  0.0  0.0  0.0  0.0  1.0  java   \n",
              "1        2024-04-15 23:34:00  0.0  0.0  0.0  0.0  0.0  0.0  1.0  java   \n",
              "2        2024-04-15 23:35:00  0.0  0.0  0.0  0.0  0.0  0.0  1.0  java   \n",
              "3        2024-04-15 23:36:00  0.0  0.0  0.0  0.0  0.0  0.0  1.0  java   \n",
              "4        2024-04-15 23:37:00  0.0  0.0  0.0  0.0  0.0  0.0  1.0  java   \n",
              "...                      ...  ...  ...  ...  ...  ...  ...  ...   ...   \n",
              "3732057  2024-04-25 21:03:00  1.0  1.0  1.0  1.0  1.0  1.0  1.0  java   \n",
              "3732058  2024-04-25 21:04:00  1.0  1.0  1.0  1.0  1.0  1.0  1.0  java   \n",
              "3732059  2024-04-25 21:05:00  1.0  1.0  1.0  1.0  1.0  1.0  1.0  java   \n",
              "3732060  2024-04-25 21:06:00  1.0  1.0  1.0  1.0  1.0  1.0  1.0  java   \n",
              "3732061                  NaN  NaN  NaN  NaN  NaN  NaN  NaN  NaN   NaN   \n",
              "\n",
              "         [GMonit] Collector  17592186045423 Unnamed: 13  575f5ba20b4b  \\\n",
              "0        [GMonit] Collector    1.759219e+13         NaN  575f5ba20b4b   \n",
              "1        [GMonit] Collector    1.759219e+13         NaN  575f5ba20b4b   \n",
              "2        [GMonit] Collector    1.759219e+13         NaN  575f5ba20b4b   \n",
              "3        [GMonit] Collector    1.759219e+13         NaN  575f5ba20b4b   \n",
              "4        [GMonit] Collector    1.759219e+13         NaN  575f5ba20b4b   \n",
              "...                     ...             ...         ...           ...   \n",
              "3732057  [GMonit] Collector    1.759219e+13         NaN  575f5ba20b4b   \n",
              "3732058  [GMonit] Collector    1.759219e+13         NaN  575f5ba20b4b   \n",
              "3732059  [GMonit] Collector    1.759219e+13         NaN  575f5ba20b4b   \n",
              "3732060  [GMonit] Collector    1.759219e+13         NaN  575f5ba20b4b   \n",
              "3732061                 NaN             NaN         NaN           NaN   \n",
              "\n",
              "        575f5ba20b4b.1  1.2  8.5.0   {}  \n",
              "0         575f5ba20b4b  1.0  8.5.0   {}  \n",
              "1         575f5ba20b4b  1.0  8.5.0   {}  \n",
              "2         575f5ba20b4b  1.0  8.5.0   {}  \n",
              "3         575f5ba20b4b  1.0  8.5.0   {}  \n",
              "4         575f5ba20b4b  1.0  8.5.0   {}  \n",
              "...                ...  ...    ...  ...  \n",
              "3732057   575f5ba20b4b  1.0  8.5.0   {}  \n",
              "3732058   575f5ba20b4b  1.0  8.5.0   {}  \n",
              "3732059   575f5ba20b4b  1.0  8.5.0   {}  \n",
              "3732060   575f5ba20b4b  1.0  8.5.0   {}  \n",
              "3732061            NaN  NaN    NaN  NaN  \n",
              "\n",
              "[3732062 rows x 19 columns]"
            ],
            "text/html": [
              "\n",
              "  <div id=\"df-9dc5c407-4a5e-4be6-b67b-004aaab8b540\" class=\"colab-df-container\">\n",
              "    <div>\n",
              "<style scoped>\n",
              "    .dataframe tbody tr th:only-of-type {\n",
              "        vertical-align: middle;\n",
              "    }\n",
              "\n",
              "    .dataframe tbody tr th {\n",
              "        vertical-align: top;\n",
              "    }\n",
              "\n",
              "    .dataframe thead th {\n",
              "        text-align: right;\n",
              "    }\n",
              "</style>\n",
              "<table border=\"1\" class=\"dataframe\">\n",
              "  <thead>\n",
              "    <tr style=\"text-align: right;\">\n",
              "      <th></th>\n",
              "      <th>1</th>\n",
              "      <th>AgentCheck/CircuitBreaker/tripped/all</th>\n",
              "      <th>2024-04-15 23:32:00</th>\n",
              "      <th>0</th>\n",
              "      <th>0.1</th>\n",
              "      <th>0.2</th>\n",
              "      <th>0.3</th>\n",
              "      <th>0.4</th>\n",
              "      <th>0.5</th>\n",
              "      <th>1.1</th>\n",
              "      <th>java</th>\n",
              "      <th>[GMonit] Collector</th>\n",
              "      <th>17592186045423</th>\n",
              "      <th>Unnamed: 13</th>\n",
              "      <th>575f5ba20b4b</th>\n",
              "      <th>575f5ba20b4b.1</th>\n",
              "      <th>1.2</th>\n",
              "      <th>8.5.0</th>\n",
              "      <th>{}</th>\n",
              "    </tr>\n",
              "  </thead>\n",
              "  <tbody>\n",
              "    <tr>\n",
              "      <th>0</th>\n",
              "      <td>1</td>\n",
              "      <td>AgentCheck/CircuitBreaker/tripped/all</td>\n",
              "      <td>2024-04-15 23:33:00</td>\n",
              "      <td>0.0</td>\n",
              "      <td>0.0</td>\n",
              "      <td>0.0</td>\n",
              "      <td>0.0</td>\n",
              "      <td>0.0</td>\n",
              "      <td>0.0</td>\n",
              "      <td>1.0</td>\n",
              "      <td>java</td>\n",
              "      <td>[GMonit] Collector</td>\n",
              "      <td>1.759219e+13</td>\n",
              "      <td>NaN</td>\n",
              "      <td>575f5ba20b4b</td>\n",
              "      <td>575f5ba20b4b</td>\n",
              "      <td>1.0</td>\n",
              "      <td>8.5.0</td>\n",
              "      <td>{}</td>\n",
              "    </tr>\n",
              "    <tr>\n",
              "      <th>1</th>\n",
              "      <td>1</td>\n",
              "      <td>AgentCheck/CircuitBreaker/tripped/all</td>\n",
              "      <td>2024-04-15 23:34:00</td>\n",
              "      <td>0.0</td>\n",
              "      <td>0.0</td>\n",
              "      <td>0.0</td>\n",
              "      <td>0.0</td>\n",
              "      <td>0.0</td>\n",
              "      <td>0.0</td>\n",
              "      <td>1.0</td>\n",
              "      <td>java</td>\n",
              "      <td>[GMonit] Collector</td>\n",
              "      <td>1.759219e+13</td>\n",
              "      <td>NaN</td>\n",
              "      <td>575f5ba20b4b</td>\n",
              "      <td>575f5ba20b4b</td>\n",
              "      <td>1.0</td>\n",
              "      <td>8.5.0</td>\n",
              "      <td>{}</td>\n",
              "    </tr>\n",
              "    <tr>\n",
              "      <th>2</th>\n",
              "      <td>1</td>\n",
              "      <td>AgentCheck/CircuitBreaker/tripped/all</td>\n",
              "      <td>2024-04-15 23:35:00</td>\n",
              "      <td>0.0</td>\n",
              "      <td>0.0</td>\n",
              "      <td>0.0</td>\n",
              "      <td>0.0</td>\n",
              "      <td>0.0</td>\n",
              "      <td>0.0</td>\n",
              "      <td>1.0</td>\n",
              "      <td>java</td>\n",
              "      <td>[GMonit] Collector</td>\n",
              "      <td>1.759219e+13</td>\n",
              "      <td>NaN</td>\n",
              "      <td>575f5ba20b4b</td>\n",
              "      <td>575f5ba20b4b</td>\n",
              "      <td>1.0</td>\n",
              "      <td>8.5.0</td>\n",
              "      <td>{}</td>\n",
              "    </tr>\n",
              "    <tr>\n",
              "      <th>3</th>\n",
              "      <td>1</td>\n",
              "      <td>AgentCheck/CircuitBreaker/tripped/all</td>\n",
              "      <td>2024-04-15 23:36:00</td>\n",
              "      <td>0.0</td>\n",
              "      <td>0.0</td>\n",
              "      <td>0.0</td>\n",
              "      <td>0.0</td>\n",
              "      <td>0.0</td>\n",
              "      <td>0.0</td>\n",
              "      <td>1.0</td>\n",
              "      <td>java</td>\n",
              "      <td>[GMonit] Collector</td>\n",
              "      <td>1.759219e+13</td>\n",
              "      <td>NaN</td>\n",
              "      <td>575f5ba20b4b</td>\n",
              "      <td>575f5ba20b4b</td>\n",
              "      <td>1.0</td>\n",
              "      <td>8.5.0</td>\n",
              "      <td>{}</td>\n",
              "    </tr>\n",
              "    <tr>\n",
              "      <th>4</th>\n",
              "      <td>1</td>\n",
              "      <td>AgentCheck/CircuitBreaker/tripped/all</td>\n",
              "      <td>2024-04-15 23:37:00</td>\n",
              "      <td>0.0</td>\n",
              "      <td>0.0</td>\n",
              "      <td>0.0</td>\n",
              "      <td>0.0</td>\n",
              "      <td>0.0</td>\n",
              "      <td>0.0</td>\n",
              "      <td>1.0</td>\n",
              "      <td>java</td>\n",
              "      <td>[GMonit] Collector</td>\n",
              "      <td>1.759219e+13</td>\n",
              "      <td>NaN</td>\n",
              "      <td>575f5ba20b4b</td>\n",
              "      <td>575f5ba20b4b</td>\n",
              "      <td>1.0</td>\n",
              "      <td>8.5.0</td>\n",
              "      <td>{}</td>\n",
              "    </tr>\n",
              "    <tr>\n",
              "      <th>...</th>\n",
              "      <td>...</td>\n",
              "      <td>...</td>\n",
              "      <td>...</td>\n",
              "      <td>...</td>\n",
              "      <td>...</td>\n",
              "      <td>...</td>\n",
              "      <td>...</td>\n",
              "      <td>...</td>\n",
              "      <td>...</td>\n",
              "      <td>...</td>\n",
              "      <td>...</td>\n",
              "      <td>...</td>\n",
              "      <td>...</td>\n",
              "      <td>...</td>\n",
              "      <td>...</td>\n",
              "      <td>...</td>\n",
              "      <td>...</td>\n",
              "      <td>...</td>\n",
              "      <td>...</td>\n",
              "    </tr>\n",
              "    <tr>\n",
              "      <th>3732057</th>\n",
              "      <td>1</td>\n",
              "      <td>Threads/State/New Relic HttpURLConnection Segm...</td>\n",
              "      <td>2024-04-25 21:03:00</td>\n",
              "      <td>1.0</td>\n",
              "      <td>1.0</td>\n",
              "      <td>1.0</td>\n",
              "      <td>1.0</td>\n",
              "      <td>1.0</td>\n",
              "      <td>1.0</td>\n",
              "      <td>1.0</td>\n",
              "      <td>java</td>\n",
              "      <td>[GMonit] Collector</td>\n",
              "      <td>1.759219e+13</td>\n",
              "      <td>NaN</td>\n",
              "      <td>575f5ba20b4b</td>\n",
              "      <td>575f5ba20b4b</td>\n",
              "      <td>1.0</td>\n",
              "      <td>8.5.0</td>\n",
              "      <td>{}</td>\n",
              "    </tr>\n",
              "    <tr>\n",
              "      <th>3732058</th>\n",
              "      <td>1</td>\n",
              "      <td>Threads/State/New Relic HttpURLConnection Segm...</td>\n",
              "      <td>2024-04-25 21:04:00</td>\n",
              "      <td>1.0</td>\n",
              "      <td>1.0</td>\n",
              "      <td>1.0</td>\n",
              "      <td>1.0</td>\n",
              "      <td>1.0</td>\n",
              "      <td>1.0</td>\n",
              "      <td>1.0</td>\n",
              "      <td>java</td>\n",
              "      <td>[GMonit] Collector</td>\n",
              "      <td>1.759219e+13</td>\n",
              "      <td>NaN</td>\n",
              "      <td>575f5ba20b4b</td>\n",
              "      <td>575f5ba20b4b</td>\n",
              "      <td>1.0</td>\n",
              "      <td>8.5.0</td>\n",
              "      <td>{}</td>\n",
              "    </tr>\n",
              "    <tr>\n",
              "      <th>3732059</th>\n",
              "      <td>1</td>\n",
              "      <td>Threads/State/New Relic HttpURLConnection Segm...</td>\n",
              "      <td>2024-04-25 21:05:00</td>\n",
              "      <td>1.0</td>\n",
              "      <td>1.0</td>\n",
              "      <td>1.0</td>\n",
              "      <td>1.0</td>\n",
              "      <td>1.0</td>\n",
              "      <td>1.0</td>\n",
              "      <td>1.0</td>\n",
              "      <td>java</td>\n",
              "      <td>[GMonit] Collector</td>\n",
              "      <td>1.759219e+13</td>\n",
              "      <td>NaN</td>\n",
              "      <td>575f5ba20b4b</td>\n",
              "      <td>575f5ba20b4b</td>\n",
              "      <td>1.0</td>\n",
              "      <td>8.5.0</td>\n",
              "      <td>{}</td>\n",
              "    </tr>\n",
              "    <tr>\n",
              "      <th>3732060</th>\n",
              "      <td>1</td>\n",
              "      <td>Threads/State/New Relic HttpURLConnection Segm...</td>\n",
              "      <td>2024-04-25 21:06:00</td>\n",
              "      <td>1.0</td>\n",
              "      <td>1.0</td>\n",
              "      <td>1.0</td>\n",
              "      <td>1.0</td>\n",
              "      <td>1.0</td>\n",
              "      <td>1.0</td>\n",
              "      <td>1.0</td>\n",
              "      <td>java</td>\n",
              "      <td>[GMonit] Collector</td>\n",
              "      <td>1.759219e+13</td>\n",
              "      <td>NaN</td>\n",
              "      <td>575f5ba20b4b</td>\n",
              "      <td>575f5ba20b4b</td>\n",
              "      <td>1.0</td>\n",
              "      <td>8.5.0</td>\n",
              "      <td>{}</td>\n",
              "    </tr>\n",
              "    <tr>\n",
              "      <th>3732061</th>\n",
              "      <td>1</td>\n",
              "      <td>Threads/State/New Relic HttpUR</td>\n",
              "      <td>NaN</td>\n",
              "      <td>NaN</td>\n",
              "      <td>NaN</td>\n",
              "      <td>NaN</td>\n",
              "      <td>NaN</td>\n",
              "      <td>NaN</td>\n",
              "      <td>NaN</td>\n",
              "      <td>NaN</td>\n",
              "      <td>NaN</td>\n",
              "      <td>NaN</td>\n",
              "      <td>NaN</td>\n",
              "      <td>NaN</td>\n",
              "      <td>NaN</td>\n",
              "      <td>NaN</td>\n",
              "      <td>NaN</td>\n",
              "      <td>NaN</td>\n",
              "      <td>NaN</td>\n",
              "    </tr>\n",
              "  </tbody>\n",
              "</table>\n",
              "<p>3732062 rows × 19 columns</p>\n",
              "</div>\n",
              "    <div class=\"colab-df-buttons\">\n",
              "\n",
              "  <div class=\"colab-df-container\">\n",
              "    <button class=\"colab-df-convert\" onclick=\"convertToInteractive('df-9dc5c407-4a5e-4be6-b67b-004aaab8b540')\"\n",
              "            title=\"Convert this dataframe to an interactive table.\"\n",
              "            style=\"display:none;\">\n",
              "\n",
              "  <svg xmlns=\"http://www.w3.org/2000/svg\" height=\"24px\" viewBox=\"0 -960 960 960\">\n",
              "    <path d=\"M120-120v-720h720v720H120Zm60-500h600v-160H180v160Zm220 220h160v-160H400v160Zm0 220h160v-160H400v160ZM180-400h160v-160H180v160Zm440 0h160v-160H620v160ZM180-180h160v-160H180v160Zm440 0h160v-160H620v160Z\"/>\n",
              "  </svg>\n",
              "    </button>\n",
              "\n",
              "  <style>\n",
              "    .colab-df-container {\n",
              "      display:flex;\n",
              "      gap: 12px;\n",
              "    }\n",
              "\n",
              "    .colab-df-convert {\n",
              "      background-color: #E8F0FE;\n",
              "      border: none;\n",
              "      border-radius: 50%;\n",
              "      cursor: pointer;\n",
              "      display: none;\n",
              "      fill: #1967D2;\n",
              "      height: 32px;\n",
              "      padding: 0 0 0 0;\n",
              "      width: 32px;\n",
              "    }\n",
              "\n",
              "    .colab-df-convert:hover {\n",
              "      background-color: #E2EBFA;\n",
              "      box-shadow: 0px 1px 2px rgba(60, 64, 67, 0.3), 0px 1px 3px 1px rgba(60, 64, 67, 0.15);\n",
              "      fill: #174EA6;\n",
              "    }\n",
              "\n",
              "    .colab-df-buttons div {\n",
              "      margin-bottom: 4px;\n",
              "    }\n",
              "\n",
              "    [theme=dark] .colab-df-convert {\n",
              "      background-color: #3B4455;\n",
              "      fill: #D2E3FC;\n",
              "    }\n",
              "\n",
              "    [theme=dark] .colab-df-convert:hover {\n",
              "      background-color: #434B5C;\n",
              "      box-shadow: 0px 1px 3px 1px rgba(0, 0, 0, 0.15);\n",
              "      filter: drop-shadow(0px 1px 2px rgba(0, 0, 0, 0.3));\n",
              "      fill: #FFFFFF;\n",
              "    }\n",
              "  </style>\n",
              "\n",
              "    <script>\n",
              "      const buttonEl =\n",
              "        document.querySelector('#df-9dc5c407-4a5e-4be6-b67b-004aaab8b540 button.colab-df-convert');\n",
              "      buttonEl.style.display =\n",
              "        google.colab.kernel.accessAllowed ? 'block' : 'none';\n",
              "\n",
              "      async function convertToInteractive(key) {\n",
              "        const element = document.querySelector('#df-9dc5c407-4a5e-4be6-b67b-004aaab8b540');\n",
              "        const dataTable =\n",
              "          await google.colab.kernel.invokeFunction('convertToInteractive',\n",
              "                                                    [key], {});\n",
              "        if (!dataTable) return;\n",
              "\n",
              "        const docLinkHtml = 'Like what you see? Visit the ' +\n",
              "          '<a target=\"_blank\" href=https://colab.research.google.com/notebooks/data_table.ipynb>data table notebook</a>'\n",
              "          + ' to learn more about interactive tables.';\n",
              "        element.innerHTML = '';\n",
              "        dataTable['output_type'] = 'display_data';\n",
              "        await google.colab.output.renderOutput(dataTable, element);\n",
              "        const docLink = document.createElement('div');\n",
              "        docLink.innerHTML = docLinkHtml;\n",
              "        element.appendChild(docLink);\n",
              "      }\n",
              "    </script>\n",
              "  </div>\n",
              "\n",
              "\n",
              "<div id=\"df-1dcf56d3-1d9f-4a0f-8a92-024159b9232e\">\n",
              "  <button class=\"colab-df-quickchart\" onclick=\"quickchart('df-1dcf56d3-1d9f-4a0f-8a92-024159b9232e')\"\n",
              "            title=\"Suggest charts\"\n",
              "            style=\"display:none;\">\n",
              "\n",
              "<svg xmlns=\"http://www.w3.org/2000/svg\" height=\"24px\"viewBox=\"0 0 24 24\"\n",
              "     width=\"24px\">\n",
              "    <g>\n",
              "        <path d=\"M19 3H5c-1.1 0-2 .9-2 2v14c0 1.1.9 2 2 2h14c1.1 0 2-.9 2-2V5c0-1.1-.9-2-2-2zM9 17H7v-7h2v7zm4 0h-2V7h2v10zm4 0h-2v-4h2v4z\"/>\n",
              "    </g>\n",
              "</svg>\n",
              "  </button>\n",
              "\n",
              "<style>\n",
              "  .colab-df-quickchart {\n",
              "      --bg-color: #E8F0FE;\n",
              "      --fill-color: #1967D2;\n",
              "      --hover-bg-color: #E2EBFA;\n",
              "      --hover-fill-color: #174EA6;\n",
              "      --disabled-fill-color: #AAA;\n",
              "      --disabled-bg-color: #DDD;\n",
              "  }\n",
              "\n",
              "  [theme=dark] .colab-df-quickchart {\n",
              "      --bg-color: #3B4455;\n",
              "      --fill-color: #D2E3FC;\n",
              "      --hover-bg-color: #434B5C;\n",
              "      --hover-fill-color: #FFFFFF;\n",
              "      --disabled-bg-color: #3B4455;\n",
              "      --disabled-fill-color: #666;\n",
              "  }\n",
              "\n",
              "  .colab-df-quickchart {\n",
              "    background-color: var(--bg-color);\n",
              "    border: none;\n",
              "    border-radius: 50%;\n",
              "    cursor: pointer;\n",
              "    display: none;\n",
              "    fill: var(--fill-color);\n",
              "    height: 32px;\n",
              "    padding: 0;\n",
              "    width: 32px;\n",
              "  }\n",
              "\n",
              "  .colab-df-quickchart:hover {\n",
              "    background-color: var(--hover-bg-color);\n",
              "    box-shadow: 0 1px 2px rgba(60, 64, 67, 0.3), 0 1px 3px 1px rgba(60, 64, 67, 0.15);\n",
              "    fill: var(--button-hover-fill-color);\n",
              "  }\n",
              "\n",
              "  .colab-df-quickchart-complete:disabled,\n",
              "  .colab-df-quickchart-complete:disabled:hover {\n",
              "    background-color: var(--disabled-bg-color);\n",
              "    fill: var(--disabled-fill-color);\n",
              "    box-shadow: none;\n",
              "  }\n",
              "\n",
              "  .colab-df-spinner {\n",
              "    border: 2px solid var(--fill-color);\n",
              "    border-color: transparent;\n",
              "    border-bottom-color: var(--fill-color);\n",
              "    animation:\n",
              "      spin 1s steps(1) infinite;\n",
              "  }\n",
              "\n",
              "  @keyframes spin {\n",
              "    0% {\n",
              "      border-color: transparent;\n",
              "      border-bottom-color: var(--fill-color);\n",
              "      border-left-color: var(--fill-color);\n",
              "    }\n",
              "    20% {\n",
              "      border-color: transparent;\n",
              "      border-left-color: var(--fill-color);\n",
              "      border-top-color: var(--fill-color);\n",
              "    }\n",
              "    30% {\n",
              "      border-color: transparent;\n",
              "      border-left-color: var(--fill-color);\n",
              "      border-top-color: var(--fill-color);\n",
              "      border-right-color: var(--fill-color);\n",
              "    }\n",
              "    40% {\n",
              "      border-color: transparent;\n",
              "      border-right-color: var(--fill-color);\n",
              "      border-top-color: var(--fill-color);\n",
              "    }\n",
              "    60% {\n",
              "      border-color: transparent;\n",
              "      border-right-color: var(--fill-color);\n",
              "    }\n",
              "    80% {\n",
              "      border-color: transparent;\n",
              "      border-right-color: var(--fill-color);\n",
              "      border-bottom-color: var(--fill-color);\n",
              "    }\n",
              "    90% {\n",
              "      border-color: transparent;\n",
              "      border-bottom-color: var(--fill-color);\n",
              "    }\n",
              "  }\n",
              "</style>\n",
              "\n",
              "  <script>\n",
              "    async function quickchart(key) {\n",
              "      const quickchartButtonEl =\n",
              "        document.querySelector('#' + key + ' button');\n",
              "      quickchartButtonEl.disabled = true;  // To prevent multiple clicks.\n",
              "      quickchartButtonEl.classList.add('colab-df-spinner');\n",
              "      try {\n",
              "        const charts = await google.colab.kernel.invokeFunction(\n",
              "            'suggestCharts', [key], {});\n",
              "      } catch (error) {\n",
              "        console.error('Error during call to suggestCharts:', error);\n",
              "      }\n",
              "      quickchartButtonEl.classList.remove('colab-df-spinner');\n",
              "      quickchartButtonEl.classList.add('colab-df-quickchart-complete');\n",
              "    }\n",
              "    (() => {\n",
              "      let quickchartButtonEl =\n",
              "        document.querySelector('#df-1dcf56d3-1d9f-4a0f-8a92-024159b9232e button');\n",
              "      quickchartButtonEl.style.display =\n",
              "        google.colab.kernel.accessAllowed ? 'block' : 'none';\n",
              "    })();\n",
              "  </script>\n",
              "</div>\n",
              "    </div>\n",
              "  </div>\n"
            ],
            "application/vnd.google.colaboratory.intrinsic+json": {
              "type": "dataframe",
              "variable_name": "df"
            }
          },
          "metadata": {},
          "execution_count": 5
        }
      ]
    },
    {
      "cell_type": "code",
      "source": [
        "df.info()"
      ],
      "metadata": {
        "colab": {
          "base_uri": "https://localhost:8080/"
        },
        "id": "LSdHoynHPFvW",
        "outputId": "93ea19d4-5fab-426e-df79-16d637120444"
      },
      "execution_count": null,
      "outputs": [
        {
          "output_type": "stream",
          "name": "stdout",
          "text": [
            "<class 'pandas.core.frame.DataFrame'>\n",
            "RangeIndex: 3732062 entries, 0 to 3732061\n",
            "Data columns (total 19 columns):\n",
            " #   Column                                 Dtype  \n",
            "---  ------                                 -----  \n",
            " 0   1                                      int64  \n",
            " 1   AgentCheck/CircuitBreaker/tripped/all  object \n",
            " 2   2024-04-15 23:32:00                    object \n",
            " 3   0                                      float64\n",
            " 4   0.1                                    float64\n",
            " 5   0.2                                    float64\n",
            " 6   0.3                                    float64\n",
            " 7   0.4                                    float64\n",
            " 8   0.5                                    float64\n",
            " 9   1.1                                    float64\n",
            " 10  java                                   object \n",
            " 11  [GMonit] Collector                     object \n",
            " 12  17592186045423                         float64\n",
            " 13  Unnamed: 13                            object \n",
            " 14  575f5ba20b4b                           object \n",
            " 15  575f5ba20b4b.1                         object \n",
            " 16  1.2                                    float64\n",
            " 17  8.5.0                                  object \n",
            " 18  {}                                     object \n",
            "dtypes: float64(9), int64(1), object(9)\n",
            "memory usage: 541.0+ MB\n"
          ]
        }
      ]
    },
    {
      "cell_type": "code",
      "source": [
        "df.head()"
      ],
      "metadata": {
        "colab": {
          "base_uri": "https://localhost:8080/",
          "height": 434
        },
        "id": "QI22b-jtPFtS",
        "outputId": "c82bc4b7-d62f-446a-ef36-3932e60afe88"
      },
      "execution_count": null,
      "outputs": [
        {
          "output_type": "execute_result",
          "data": {
            "text/plain": [
              "   1  AgentCheck/CircuitBreaker/tripped/all  2024-04-15 23:32:00    0  0.1  \\\n",
              "0  1  AgentCheck/CircuitBreaker/tripped/all  2024-04-15 23:33:00  0.0  0.0   \n",
              "1  1  AgentCheck/CircuitBreaker/tripped/all  2024-04-15 23:34:00  0.0  0.0   \n",
              "2  1  AgentCheck/CircuitBreaker/tripped/all  2024-04-15 23:35:00  0.0  0.0   \n",
              "3  1  AgentCheck/CircuitBreaker/tripped/all  2024-04-15 23:36:00  0.0  0.0   \n",
              "4  1  AgentCheck/CircuitBreaker/tripped/all  2024-04-15 23:37:00  0.0  0.0   \n",
              "\n",
              "   0.2  0.3  0.4  0.5  1.1  java  [GMonit] Collector  17592186045423  \\\n",
              "0  0.0  0.0  0.0  0.0  1.0  java  [GMonit] Collector    1.759219e+13   \n",
              "1  0.0  0.0  0.0  0.0  1.0  java  [GMonit] Collector    1.759219e+13   \n",
              "2  0.0  0.0  0.0  0.0  1.0  java  [GMonit] Collector    1.759219e+13   \n",
              "3  0.0  0.0  0.0  0.0  1.0  java  [GMonit] Collector    1.759219e+13   \n",
              "4  0.0  0.0  0.0  0.0  1.0  java  [GMonit] Collector    1.759219e+13   \n",
              "\n",
              "  Unnamed: 13  575f5ba20b4b 575f5ba20b4b.1  1.2  8.5.0  {}  \n",
              "0         NaN  575f5ba20b4b   575f5ba20b4b  1.0  8.5.0  {}  \n",
              "1         NaN  575f5ba20b4b   575f5ba20b4b  1.0  8.5.0  {}  \n",
              "2         NaN  575f5ba20b4b   575f5ba20b4b  1.0  8.5.0  {}  \n",
              "3         NaN  575f5ba20b4b   575f5ba20b4b  1.0  8.5.0  {}  \n",
              "4         NaN  575f5ba20b4b   575f5ba20b4b  1.0  8.5.0  {}  "
            ],
            "text/html": [
              "\n",
              "  <div id=\"df-6d575a53-0c7e-4c6d-891a-856d110a7625\" class=\"colab-df-container\">\n",
              "    <div>\n",
              "<style scoped>\n",
              "    .dataframe tbody tr th:only-of-type {\n",
              "        vertical-align: middle;\n",
              "    }\n",
              "\n",
              "    .dataframe tbody tr th {\n",
              "        vertical-align: top;\n",
              "    }\n",
              "\n",
              "    .dataframe thead th {\n",
              "        text-align: right;\n",
              "    }\n",
              "</style>\n",
              "<table border=\"1\" class=\"dataframe\">\n",
              "  <thead>\n",
              "    <tr style=\"text-align: right;\">\n",
              "      <th></th>\n",
              "      <th>1</th>\n",
              "      <th>AgentCheck/CircuitBreaker/tripped/all</th>\n",
              "      <th>2024-04-15 23:32:00</th>\n",
              "      <th>0</th>\n",
              "      <th>0.1</th>\n",
              "      <th>0.2</th>\n",
              "      <th>0.3</th>\n",
              "      <th>0.4</th>\n",
              "      <th>0.5</th>\n",
              "      <th>1.1</th>\n",
              "      <th>java</th>\n",
              "      <th>[GMonit] Collector</th>\n",
              "      <th>17592186045423</th>\n",
              "      <th>Unnamed: 13</th>\n",
              "      <th>575f5ba20b4b</th>\n",
              "      <th>575f5ba20b4b.1</th>\n",
              "      <th>1.2</th>\n",
              "      <th>8.5.0</th>\n",
              "      <th>{}</th>\n",
              "    </tr>\n",
              "  </thead>\n",
              "  <tbody>\n",
              "    <tr>\n",
              "      <th>0</th>\n",
              "      <td>1</td>\n",
              "      <td>AgentCheck/CircuitBreaker/tripped/all</td>\n",
              "      <td>2024-04-15 23:33:00</td>\n",
              "      <td>0.0</td>\n",
              "      <td>0.0</td>\n",
              "      <td>0.0</td>\n",
              "      <td>0.0</td>\n",
              "      <td>0.0</td>\n",
              "      <td>0.0</td>\n",
              "      <td>1.0</td>\n",
              "      <td>java</td>\n",
              "      <td>[GMonit] Collector</td>\n",
              "      <td>1.759219e+13</td>\n",
              "      <td>NaN</td>\n",
              "      <td>575f5ba20b4b</td>\n",
              "      <td>575f5ba20b4b</td>\n",
              "      <td>1.0</td>\n",
              "      <td>8.5.0</td>\n",
              "      <td>{}</td>\n",
              "    </tr>\n",
              "    <tr>\n",
              "      <th>1</th>\n",
              "      <td>1</td>\n",
              "      <td>AgentCheck/CircuitBreaker/tripped/all</td>\n",
              "      <td>2024-04-15 23:34:00</td>\n",
              "      <td>0.0</td>\n",
              "      <td>0.0</td>\n",
              "      <td>0.0</td>\n",
              "      <td>0.0</td>\n",
              "      <td>0.0</td>\n",
              "      <td>0.0</td>\n",
              "      <td>1.0</td>\n",
              "      <td>java</td>\n",
              "      <td>[GMonit] Collector</td>\n",
              "      <td>1.759219e+13</td>\n",
              "      <td>NaN</td>\n",
              "      <td>575f5ba20b4b</td>\n",
              "      <td>575f5ba20b4b</td>\n",
              "      <td>1.0</td>\n",
              "      <td>8.5.0</td>\n",
              "      <td>{}</td>\n",
              "    </tr>\n",
              "    <tr>\n",
              "      <th>2</th>\n",
              "      <td>1</td>\n",
              "      <td>AgentCheck/CircuitBreaker/tripped/all</td>\n",
              "      <td>2024-04-15 23:35:00</td>\n",
              "      <td>0.0</td>\n",
              "      <td>0.0</td>\n",
              "      <td>0.0</td>\n",
              "      <td>0.0</td>\n",
              "      <td>0.0</td>\n",
              "      <td>0.0</td>\n",
              "      <td>1.0</td>\n",
              "      <td>java</td>\n",
              "      <td>[GMonit] Collector</td>\n",
              "      <td>1.759219e+13</td>\n",
              "      <td>NaN</td>\n",
              "      <td>575f5ba20b4b</td>\n",
              "      <td>575f5ba20b4b</td>\n",
              "      <td>1.0</td>\n",
              "      <td>8.5.0</td>\n",
              "      <td>{}</td>\n",
              "    </tr>\n",
              "    <tr>\n",
              "      <th>3</th>\n",
              "      <td>1</td>\n",
              "      <td>AgentCheck/CircuitBreaker/tripped/all</td>\n",
              "      <td>2024-04-15 23:36:00</td>\n",
              "      <td>0.0</td>\n",
              "      <td>0.0</td>\n",
              "      <td>0.0</td>\n",
              "      <td>0.0</td>\n",
              "      <td>0.0</td>\n",
              "      <td>0.0</td>\n",
              "      <td>1.0</td>\n",
              "      <td>java</td>\n",
              "      <td>[GMonit] Collector</td>\n",
              "      <td>1.759219e+13</td>\n",
              "      <td>NaN</td>\n",
              "      <td>575f5ba20b4b</td>\n",
              "      <td>575f5ba20b4b</td>\n",
              "      <td>1.0</td>\n",
              "      <td>8.5.0</td>\n",
              "      <td>{}</td>\n",
              "    </tr>\n",
              "    <tr>\n",
              "      <th>4</th>\n",
              "      <td>1</td>\n",
              "      <td>AgentCheck/CircuitBreaker/tripped/all</td>\n",
              "      <td>2024-04-15 23:37:00</td>\n",
              "      <td>0.0</td>\n",
              "      <td>0.0</td>\n",
              "      <td>0.0</td>\n",
              "      <td>0.0</td>\n",
              "      <td>0.0</td>\n",
              "      <td>0.0</td>\n",
              "      <td>1.0</td>\n",
              "      <td>java</td>\n",
              "      <td>[GMonit] Collector</td>\n",
              "      <td>1.759219e+13</td>\n",
              "      <td>NaN</td>\n",
              "      <td>575f5ba20b4b</td>\n",
              "      <td>575f5ba20b4b</td>\n",
              "      <td>1.0</td>\n",
              "      <td>8.5.0</td>\n",
              "      <td>{}</td>\n",
              "    </tr>\n",
              "  </tbody>\n",
              "</table>\n",
              "</div>\n",
              "    <div class=\"colab-df-buttons\">\n",
              "\n",
              "  <div class=\"colab-df-container\">\n",
              "    <button class=\"colab-df-convert\" onclick=\"convertToInteractive('df-6d575a53-0c7e-4c6d-891a-856d110a7625')\"\n",
              "            title=\"Convert this dataframe to an interactive table.\"\n",
              "            style=\"display:none;\">\n",
              "\n",
              "  <svg xmlns=\"http://www.w3.org/2000/svg\" height=\"24px\" viewBox=\"0 -960 960 960\">\n",
              "    <path d=\"M120-120v-720h720v720H120Zm60-500h600v-160H180v160Zm220 220h160v-160H400v160Zm0 220h160v-160H400v160ZM180-400h160v-160H180v160Zm440 0h160v-160H620v160ZM180-180h160v-160H180v160Zm440 0h160v-160H620v160Z\"/>\n",
              "  </svg>\n",
              "    </button>\n",
              "\n",
              "  <style>\n",
              "    .colab-df-container {\n",
              "      display:flex;\n",
              "      gap: 12px;\n",
              "    }\n",
              "\n",
              "    .colab-df-convert {\n",
              "      background-color: #E8F0FE;\n",
              "      border: none;\n",
              "      border-radius: 50%;\n",
              "      cursor: pointer;\n",
              "      display: none;\n",
              "      fill: #1967D2;\n",
              "      height: 32px;\n",
              "      padding: 0 0 0 0;\n",
              "      width: 32px;\n",
              "    }\n",
              "\n",
              "    .colab-df-convert:hover {\n",
              "      background-color: #E2EBFA;\n",
              "      box-shadow: 0px 1px 2px rgba(60, 64, 67, 0.3), 0px 1px 3px 1px rgba(60, 64, 67, 0.15);\n",
              "      fill: #174EA6;\n",
              "    }\n",
              "\n",
              "    .colab-df-buttons div {\n",
              "      margin-bottom: 4px;\n",
              "    }\n",
              "\n",
              "    [theme=dark] .colab-df-convert {\n",
              "      background-color: #3B4455;\n",
              "      fill: #D2E3FC;\n",
              "    }\n",
              "\n",
              "    [theme=dark] .colab-df-convert:hover {\n",
              "      background-color: #434B5C;\n",
              "      box-shadow: 0px 1px 3px 1px rgba(0, 0, 0, 0.15);\n",
              "      filter: drop-shadow(0px 1px 2px rgba(0, 0, 0, 0.3));\n",
              "      fill: #FFFFFF;\n",
              "    }\n",
              "  </style>\n",
              "\n",
              "    <script>\n",
              "      const buttonEl =\n",
              "        document.querySelector('#df-6d575a53-0c7e-4c6d-891a-856d110a7625 button.colab-df-convert');\n",
              "      buttonEl.style.display =\n",
              "        google.colab.kernel.accessAllowed ? 'block' : 'none';\n",
              "\n",
              "      async function convertToInteractive(key) {\n",
              "        const element = document.querySelector('#df-6d575a53-0c7e-4c6d-891a-856d110a7625');\n",
              "        const dataTable =\n",
              "          await google.colab.kernel.invokeFunction('convertToInteractive',\n",
              "                                                    [key], {});\n",
              "        if (!dataTable) return;\n",
              "\n",
              "        const docLinkHtml = 'Like what you see? Visit the ' +\n",
              "          '<a target=\"_blank\" href=https://colab.research.google.com/notebooks/data_table.ipynb>data table notebook</a>'\n",
              "          + ' to learn more about interactive tables.';\n",
              "        element.innerHTML = '';\n",
              "        dataTable['output_type'] = 'display_data';\n",
              "        await google.colab.output.renderOutput(dataTable, element);\n",
              "        const docLink = document.createElement('div');\n",
              "        docLink.innerHTML = docLinkHtml;\n",
              "        element.appendChild(docLink);\n",
              "      }\n",
              "    </script>\n",
              "  </div>\n",
              "\n",
              "\n",
              "<div id=\"df-93da3797-5057-42fb-bf3a-eb580d39a4e6\">\n",
              "  <button class=\"colab-df-quickchart\" onclick=\"quickchart('df-93da3797-5057-42fb-bf3a-eb580d39a4e6')\"\n",
              "            title=\"Suggest charts\"\n",
              "            style=\"display:none;\">\n",
              "\n",
              "<svg xmlns=\"http://www.w3.org/2000/svg\" height=\"24px\"viewBox=\"0 0 24 24\"\n",
              "     width=\"24px\">\n",
              "    <g>\n",
              "        <path d=\"M19 3H5c-1.1 0-2 .9-2 2v14c0 1.1.9 2 2 2h14c1.1 0 2-.9 2-2V5c0-1.1-.9-2-2-2zM9 17H7v-7h2v7zm4 0h-2V7h2v10zm4 0h-2v-4h2v4z\"/>\n",
              "    </g>\n",
              "</svg>\n",
              "  </button>\n",
              "\n",
              "<style>\n",
              "  .colab-df-quickchart {\n",
              "      --bg-color: #E8F0FE;\n",
              "      --fill-color: #1967D2;\n",
              "      --hover-bg-color: #E2EBFA;\n",
              "      --hover-fill-color: #174EA6;\n",
              "      --disabled-fill-color: #AAA;\n",
              "      --disabled-bg-color: #DDD;\n",
              "  }\n",
              "\n",
              "  [theme=dark] .colab-df-quickchart {\n",
              "      --bg-color: #3B4455;\n",
              "      --fill-color: #D2E3FC;\n",
              "      --hover-bg-color: #434B5C;\n",
              "      --hover-fill-color: #FFFFFF;\n",
              "      --disabled-bg-color: #3B4455;\n",
              "      --disabled-fill-color: #666;\n",
              "  }\n",
              "\n",
              "  .colab-df-quickchart {\n",
              "    background-color: var(--bg-color);\n",
              "    border: none;\n",
              "    border-radius: 50%;\n",
              "    cursor: pointer;\n",
              "    display: none;\n",
              "    fill: var(--fill-color);\n",
              "    height: 32px;\n",
              "    padding: 0;\n",
              "    width: 32px;\n",
              "  }\n",
              "\n",
              "  .colab-df-quickchart:hover {\n",
              "    background-color: var(--hover-bg-color);\n",
              "    box-shadow: 0 1px 2px rgba(60, 64, 67, 0.3), 0 1px 3px 1px rgba(60, 64, 67, 0.15);\n",
              "    fill: var(--button-hover-fill-color);\n",
              "  }\n",
              "\n",
              "  .colab-df-quickchart-complete:disabled,\n",
              "  .colab-df-quickchart-complete:disabled:hover {\n",
              "    background-color: var(--disabled-bg-color);\n",
              "    fill: var(--disabled-fill-color);\n",
              "    box-shadow: none;\n",
              "  }\n",
              "\n",
              "  .colab-df-spinner {\n",
              "    border: 2px solid var(--fill-color);\n",
              "    border-color: transparent;\n",
              "    border-bottom-color: var(--fill-color);\n",
              "    animation:\n",
              "      spin 1s steps(1) infinite;\n",
              "  }\n",
              "\n",
              "  @keyframes spin {\n",
              "    0% {\n",
              "      border-color: transparent;\n",
              "      border-bottom-color: var(--fill-color);\n",
              "      border-left-color: var(--fill-color);\n",
              "    }\n",
              "    20% {\n",
              "      border-color: transparent;\n",
              "      border-left-color: var(--fill-color);\n",
              "      border-top-color: var(--fill-color);\n",
              "    }\n",
              "    30% {\n",
              "      border-color: transparent;\n",
              "      border-left-color: var(--fill-color);\n",
              "      border-top-color: var(--fill-color);\n",
              "      border-right-color: var(--fill-color);\n",
              "    }\n",
              "    40% {\n",
              "      border-color: transparent;\n",
              "      border-right-color: var(--fill-color);\n",
              "      border-top-color: var(--fill-color);\n",
              "    }\n",
              "    60% {\n",
              "      border-color: transparent;\n",
              "      border-right-color: var(--fill-color);\n",
              "    }\n",
              "    80% {\n",
              "      border-color: transparent;\n",
              "      border-right-color: var(--fill-color);\n",
              "      border-bottom-color: var(--fill-color);\n",
              "    }\n",
              "    90% {\n",
              "      border-color: transparent;\n",
              "      border-bottom-color: var(--fill-color);\n",
              "    }\n",
              "  }\n",
              "</style>\n",
              "\n",
              "  <script>\n",
              "    async function quickchart(key) {\n",
              "      const quickchartButtonEl =\n",
              "        document.querySelector('#' + key + ' button');\n",
              "      quickchartButtonEl.disabled = true;  // To prevent multiple clicks.\n",
              "      quickchartButtonEl.classList.add('colab-df-spinner');\n",
              "      try {\n",
              "        const charts = await google.colab.kernel.invokeFunction(\n",
              "            'suggestCharts', [key], {});\n",
              "      } catch (error) {\n",
              "        console.error('Error during call to suggestCharts:', error);\n",
              "      }\n",
              "      quickchartButtonEl.classList.remove('colab-df-spinner');\n",
              "      quickchartButtonEl.classList.add('colab-df-quickchart-complete');\n",
              "    }\n",
              "    (() => {\n",
              "      let quickchartButtonEl =\n",
              "        document.querySelector('#df-93da3797-5057-42fb-bf3a-eb580d39a4e6 button');\n",
              "      quickchartButtonEl.style.display =\n",
              "        google.colab.kernel.accessAllowed ? 'block' : 'none';\n",
              "    })();\n",
              "  </script>\n",
              "</div>\n",
              "    </div>\n",
              "  </div>\n"
            ],
            "application/vnd.google.colaboratory.intrinsic+json": {
              "type": "dataframe",
              "variable_name": "df"
            }
          },
          "metadata": {},
          "execution_count": 7
        }
      ]
    },
    {
      "cell_type": "code",
      "source": [
        "# Изменяем названия столбцов\n",
        "new_headers = ['account_id',\n",
        "               'name',\n",
        "               'point',\n",
        "               'call_count',\n",
        "               'total_call_time',\n",
        "               'total_exclusive_time',\n",
        "               'min_call_time',\n",
        "               'max_call_time',\n",
        "               'sum_of_squares',\n",
        "               'instances',\n",
        "               'language',\n",
        "               'app_name',\n",
        "               'app_id',\n",
        "               'scope',\n",
        "               'host',\n",
        "               'display_host',\n",
        "               'pid',\n",
        "               'agent_version',\n",
        "               'labels']"
      ],
      "metadata": {
        "id": "oyuhkPgbSaAt"
      },
      "execution_count": null,
      "outputs": []
    },
    {
      "cell_type": "code",
      "source": [
        "# Сохраняем исходные названия столбцов в список\n",
        "original_headers = df.columns.tolist()"
      ],
      "metadata": {
        "id": "-Nl2JEzRQ4Mb"
      },
      "execution_count": null,
      "outputs": []
    },
    {
      "cell_type": "code",
      "source": [
        "# Устанавливаем новые названия столбцов\n",
        "df.columns = new_headers\n",
        "\n",
        "# Добавляем сохраненные названия столбцов обратно в DataFrame как первую строку\n",
        "df.loc[0] = original_headers\n",
        "\n",
        "print(df)"
      ],
      "metadata": {
        "colab": {
          "base_uri": "https://localhost:8080/"
        },
        "id": "sUKKIObIQ6bo",
        "outputId": "7ba7277c-6eee-4dbe-e66f-38309463f3d5"
      },
      "execution_count": null,
      "outputs": [
        {
          "output_type": "stream",
          "name": "stdout",
          "text": [
            "        account_id                                               name  \\\n",
            "0                1              AgentCheck/CircuitBreaker/tripped/all   \n",
            "1                1              AgentCheck/CircuitBreaker/tripped/all   \n",
            "2                1              AgentCheck/CircuitBreaker/tripped/all   \n",
            "3                1              AgentCheck/CircuitBreaker/tripped/all   \n",
            "4                1              AgentCheck/CircuitBreaker/tripped/all   \n",
            "...            ...                                                ...   \n",
            "3732057          1  Threads/State/New Relic HttpURLConnection Segm...   \n",
            "3732058          1  Threads/State/New Relic HttpURLConnection Segm...   \n",
            "3732059          1  Threads/State/New Relic HttpURLConnection Segm...   \n",
            "3732060          1  Threads/State/New Relic HttpURLConnection Segm...   \n",
            "3732061          1                     Threads/State/New Relic HttpUR   \n",
            "\n",
            "                       point call_count total_call_time total_exclusive_time  \\\n",
            "0        2024-04-15 23:32:00          0             0.1                  0.2   \n",
            "1        2024-04-15 23:34:00        0.0             0.0                  0.0   \n",
            "2        2024-04-15 23:35:00        0.0             0.0                  0.0   \n",
            "3        2024-04-15 23:36:00        0.0             0.0                  0.0   \n",
            "4        2024-04-15 23:37:00        0.0             0.0                  0.0   \n",
            "...                      ...        ...             ...                  ...   \n",
            "3732057  2024-04-25 21:03:00        1.0             1.0                  1.0   \n",
            "3732058  2024-04-25 21:04:00        1.0             1.0                  1.0   \n",
            "3732059  2024-04-25 21:05:00        1.0             1.0                  1.0   \n",
            "3732060  2024-04-25 21:06:00        1.0             1.0                  1.0   \n",
            "3732061                  NaN        NaN             NaN                  NaN   \n",
            "\n",
            "        min_call_time max_call_time sum_of_squares instances language  \\\n",
            "0                 0.3           0.4            0.5       1.1     java   \n",
            "1                 0.0           0.0            0.0       1.0     java   \n",
            "2                 0.0           0.0            0.0       1.0     java   \n",
            "3                 0.0           0.0            0.0       1.0     java   \n",
            "4                 0.0           0.0            0.0       1.0     java   \n",
            "...               ...           ...            ...       ...      ...   \n",
            "3732057           1.0           1.0            1.0       1.0     java   \n",
            "3732058           1.0           1.0            1.0       1.0     java   \n",
            "3732059           1.0           1.0            1.0       1.0     java   \n",
            "3732060           1.0           1.0            1.0       1.0     java   \n",
            "3732061           NaN           NaN            NaN       NaN      NaN   \n",
            "\n",
            "                   app_name            app_id        scope          host  \\\n",
            "0        [GMonit] Collector    17592186045423  Unnamed: 13  575f5ba20b4b   \n",
            "1        [GMonit] Collector  17592186045423.0          NaN  575f5ba20b4b   \n",
            "2        [GMonit] Collector  17592186045423.0          NaN  575f5ba20b4b   \n",
            "3        [GMonit] Collector  17592186045423.0          NaN  575f5ba20b4b   \n",
            "4        [GMonit] Collector  17592186045423.0          NaN  575f5ba20b4b   \n",
            "...                     ...               ...          ...           ...   \n",
            "3732057  [GMonit] Collector  17592186045423.0          NaN  575f5ba20b4b   \n",
            "3732058  [GMonit] Collector  17592186045423.0          NaN  575f5ba20b4b   \n",
            "3732059  [GMonit] Collector  17592186045423.0          NaN  575f5ba20b4b   \n",
            "3732060  [GMonit] Collector  17592186045423.0          NaN  575f5ba20b4b   \n",
            "3732061                 NaN               NaN          NaN           NaN   \n",
            "\n",
            "           display_host  pid agent_version labels  \n",
            "0        575f5ba20b4b.1  1.2         8.5.0     {}  \n",
            "1          575f5ba20b4b  1.0         8.5.0     {}  \n",
            "2          575f5ba20b4b  1.0         8.5.0     {}  \n",
            "3          575f5ba20b4b  1.0         8.5.0     {}  \n",
            "4          575f5ba20b4b  1.0         8.5.0     {}  \n",
            "...                 ...  ...           ...    ...  \n",
            "3732057    575f5ba20b4b  1.0         8.5.0     {}  \n",
            "3732058    575f5ba20b4b  1.0         8.5.0     {}  \n",
            "3732059    575f5ba20b4b  1.0         8.5.0     {}  \n",
            "3732060    575f5ba20b4b  1.0         8.5.0     {}  \n",
            "3732061             NaN  NaN           NaN    NaN  \n",
            "\n",
            "[3732062 rows x 19 columns]\n"
          ]
        }
      ]
    },
    {
      "cell_type": "code",
      "source": [
        "# Сохраняем DataFrame в файл CSV\n",
        "df.to_csv('/content/metrics_collector_v_03.csv', index=False)\n",
        "\n",
        "print(\"Данные успешно сохранены в файл CSV.\")"
      ],
      "metadata": {
        "colab": {
          "base_uri": "https://localhost:8080/"
        },
        "id": "zrHSjjcdmUhS",
        "outputId": "27c9628e-903e-45c6-add1-16a3896f0b5c"
      },
      "execution_count": null,
      "outputs": [
        {
          "output_type": "stream",
          "name": "stdout",
          "text": [
            "Данные успешно сохранены в файл CSV.\n"
          ]
        }
      ]
    },
    {
      "cell_type": "markdown",
      "source": [
        "# SARIMAX\n"
      ],
      "metadata": {
        "id": "sCCV5Cyevq0Q"
      }
    },
    {
      "cell_type": "code",
      "source": [
        "import pandas as pd\n",
        "import numpy as np\n",
        "import matplotlib.pyplot as plt\n",
        "from statsmodels.tsa.statespace.sarimax import SARIMAX\n",
        "from datetime import datetime\n",
        "\n",
        "# Шаг 1: Загрузка данных\n",
        "# Предположим, что данные находятся в файле \"data.csv\"\n"
      ],
      "metadata": {
        "id": "_awdCjCOvwWM"
      },
      "execution_count": null,
      "outputs": []
    },
    {
      "cell_type": "code",
      "source": [
        "# Шаг 2: Удаление ненужных столбцов\n",
        "columns_to_drop = ['host', 'display_host', 'language', 'pid', 'agent_version', 'labels', 'app_name', 'app_id', 'account_id']\n",
        "df = df.drop(columns=columns_to_drop)\n",
        "\n",
        "# Шаг 3: Заполнение пропусков в колонке 'point'\n",
        "df['point'] = pd.to_datetime(df['point'])\n",
        "df = df.sort_values(by='point')  # Важно упорядочить по времени\n",
        "\n",
        "# Найти индексы с NaN значениями в 'point'\n",
        "nan_indices = df['point'].isna()\n",
        "\n",
        "# Заполняем временную колонку методами линейной интерполяции и прямой замены\n",
        "df['point'] = df['point'].interpolate(method='linear')\n",
        "df['point'] = df['point'].fillna(method='ffill')\n",
        "\n",
        "# Если всё же остались NaN, попытаемся заполнить их ручным добавлением одной минуты\n",
        "for idx in df[nan_indices].index:\n",
        "    if idx > 0 and pd.isna(df.at[idx, 'point']):\n",
        "        df.at[idx, 'point'] = df.at[idx-1, 'point'] + timedelta(minutes=1)\n",
        "\n",
        "# Шаг 4: Заполнение пропусков в других колонках\n",
        "df = df.fillna(method='ffill')\n",
        "\n",
        "# Шаг 5: Очистка данных\n",
        "df = df.dropna(subset=['point', 'call_count'])  # Удаляем строки с NaN в критических столбцах\n",
        "\n",
        "# Преобразуем колонку 'call_count' в числовой формат, заменяя нечисловые значения на NaN\n",
        "df['call_count'] = pd.to_numeric(df['call_count'], errors='coerce')\n",
        "\n",
        "# Удаляем строки с NaN в 'call_count'\n",
        "df = df.dropna(subset=['call_count'])\n",
        "\n",
        "# Группировка данных по времени и учет только 'call_count'\n",
        "time_series = df.set_index('point')['call_count'].resample('T').sum()\n",
        "\n",
        "# Для ускорения вычислений возьмем только последние 10 000 точек, если данных слишком много\n",
        "if len(time_series) > 15000:\n",
        "    time_series = time_series[-15000:]\n",
        "\n",
        "# Шаг 6: Обучение модели SARIMA\n",
        "# Уменьшите порядок модели, если это возможно\n",
        "p, d, q = 0, 1, 1\n",
        "P, D, Q, s = 0, 1, 1, 30  # Пример сезонности равной 30 минутам\n",
        "\n",
        "# Обучение модели\n",
        "model = SARIMAX(time_series, order=(p, d, q), seasonal_order=(P, D, Q, s))\n",
        "results = model.fit(disp=False)  # Убедитесь, что disp=False для подавления вывода\n",
        "\n",
        "# Шаг 7: Прогнозирование и поиск аномалий\n",
        "# Прогнозируем на те же временные точки, что и исходные данные\n",
        "pred = results.get_prediction(start=0, end=len(time_series)-1)\n",
        "pred_mean = pred.predicted_mean\n",
        "pred_ci = pred.conf_int()\n",
        "\n",
        "# Обнаружение аномалий как точки, которые лежат вне доверительных интервалов\n",
        "anomalies = time_series[(time_series < pred_ci.iloc[:, 0]) | (time_series > pred_ci.iloc[:, 1])]\n",
        "\n",
        "# Визуализация\n",
        "plt.figure(figsize=(12, 6))\n",
        "plt.plot(time_series, label='Observed')\n",
        "plt.plot(pred_mean, color='red', label='Forecast')\n",
        "plt.fill_between(pred_ci.index,\n",
        "                 pred_ci.iloc[:, 0],\n",
        "                 pred_ci.iloc[:, 1], color='k', alpha=0.2, label='Confidence Interval')\n",
        "plt.scatter(anomalies.index, anomalies, color='red', label='Anomalies')\n",
        "plt.legend()\n",
        "plt.show()\n",
        "\n",
        "print(\"Аномалии найдены в следующих временных точках:\")\n",
        "print(anomalies)"
      ],
      "metadata": {
        "colab": {
          "base_uri": "https://localhost:8080/",
          "height": 443
        },
        "id": "9c_uEGERTCvd",
        "outputId": "64c17186-6206-4a4f-ad56-86e2b93953b8"
      },
      "execution_count": null,
      "outputs": [
        {
          "output_type": "display_data",
          "data": {
            "text/plain": [
              "<Figure size 1200x600 with 1 Axes>"
            ],
            "image/png": "[encoded data removed]"
          },
          "metadata": {}
        }
      ]
    },
    {
      "cell_type": "markdown",
      "source": [
        "# Байесовкая оптимизация с SARIMAX"
      ],
      "metadata": {
        "id": "LR6DdFaORZfY"
      }
    },
    {
      "cell_type": "code",
      "source": [
        "import pandas as pd\n",
        "import numpy as np\n",
        "from datetime import timedelta\n",
        "from statsmodels.tsa.statespace.sarimax import SARIMAX\n",
        "import matplotlib.pyplot as plt\n",
        "from hyperopt import fmin, tpe, hp, STATUS_OK, Trials\n",
        "from hyperopt.pyll.base import scope\n",
        "\n",
        "# Шаг 2: Удаление ненужных столбцов\n",
        "\n",
        "# Замените df на фактическое имя вашего DataFrame или загрузите данные\n",
        "# Напр. df = pd.read_csv('your_data.csv')\n",
        "columns_to_drop = ['host', 'display_host', 'language', 'pid', 'agent_version', 'labels', 'app_name', 'app_id', 'account_id']\n",
        "df = df.drop(columns=columns_to_drop)\n",
        "\n",
        "# Шаг 3: Заполнение пропусков в колонке 'point'\n",
        "df['point'] = pd.to_datetime(df['point'])\n",
        "df = df.sort_values(by='point')  # Важно упорядочить по времени\n",
        "\n",
        "# Найти индексы с NaN значениями в 'point'\n",
        "nan_indices = df['point'].isna()\n",
        "\n",
        "# Заполняем временную колонку методами линейной интерполяции и прямой замены\n",
        "df['point'] = df['point'].interpolate(method='linear')\n",
        "df['point'] = df['point'].fillna(method='ffill')\n",
        "\n",
        "# Если всё же остались NaN, заполняем их ручным добавлением одной минуты\n",
        "for idx in df[nan_indices].index:\n",
        "    if idx > 0 and pd.isna(df.at[idx, 'point']):\n",
        "        df.at[idx, 'point'] = df.at[idx-1, 'point'] + timedelta(minutes=1)\n",
        "\n",
        "# Шаг 4: Заполнение пропусков в других колонках\n",
        "df = df.fillna(method='ffill')\n",
        "\n",
        "# Шаг 5: Очистка данных\n",
        "df = df.dropna(subset=['point', 'call_count'])  # Удаляем строки с NaN в критических столбцах\n",
        "\n",
        "# Преобразуем колонку 'call_count' в числовой формат, заменяя нечисловые значения на NaN\n",
        "df['call_count'] = pd.to_numeric(df['call_count'], errors='coerce')\n",
        "\n",
        "# Удаляем строки с NaN в 'call_count'\n",
        "df = df.dropna(subset=['call_count'])\n",
        "\n",
        "# Группировка данных по времени и учет только 'call_count'\n",
        "time_series = df.set_index('point')['call_count'].resample('T').sum()\n",
        "\n",
        "# Для ускорения вычислений возьмем только последние 10 000 точек, если данных слишком много\n",
        "if len(time_series) > 15000:\n",
        "    time_series = time_series[-15000:]\n",
        "\n",
        "# Определяем пространство поиска гиперпараметров для байесовской оптимизации\n",
        "space = {\n",
        "    'p': scope.int(hp.quniform('p', 0, 3, 1)),\n",
        "    'd': scope.int(hp.quniform('d', 0, 2, 1)),\n",
        "    'q': scope.int(hp.quniform('q', 0, 3, 1)),\n",
        "    'P': scope.int(hp.quniform('P', 0, 1, 1)),\n",
        "    'D': scope.int(hp.quniform('D', 0, 1, 1)),\n",
        "    'Q': scope.int(hp.quniform('Q', 0, 1, 1))\n",
        "}\n",
        "\n",
        "def objective(params):\n",
        "    s = 30  # Пример сезонного порядка\n",
        "    model = SARIMAX(time_series, order=(params['p'], params['d'], params['q']),\n",
        "                    seasonal_order=(params['P'], params['D'], params['Q'], s))\n",
        "    results = model.fit(disp=False)\n",
        "    return {'loss': results.aic, 'status': STATUS_OK}\n",
        "\n",
        "# Запускаем байесовскую оптимизацию\n",
        "trials = Trials()\n",
        "best = fmin(fn=objective,\n",
        "            space=space,\n",
        "            algo=tpe.suggest,\n",
        "            max_evals=20,\n",
        "            trials=trials)\n",
        "\n",
        "# Обучение модели с оптимальными параметрами\n",
        "s = 30  # Пример сезонного порядка\n",
        "model = SARIMAX(time_series, order=(best['p'], best['d'], best['q']),\n",
        "                seasonal_order=(best['P'], best['D'], best['Q'], s))\n",
        "results = model.fit(disp=False)\n",
        "\n",
        "# Шаг 7: Прогнозирование и поиск аномалий\n",
        "# Прогнозируем на те же временные точки, что и исходные данные\n",
        "pred = results.get_prediction(start=0, end=len(time_series)-1)\n",
        "pred_mean = pred.predicted_mean\n",
        "pred_ci = pred.conf_int()\n",
        "\n",
        "# Обнаружение аномалий как точки, которые лежат вне доверительных интервалов\n",
        "anomalies = time_series[(time_series < pred_ci.iloc[:, 0]) | (time_series > pred_ci.iloc[:, 1])]\n",
        "\n",
        "# Визуализация\n",
        "plt.figure(figsize=(12, 6))\n",
        "plt.plot(time_series, label='Observed')\n",
        "plt.plot(pred_mean, color='red', label='Forecast')\n",
        "plt.fill_between(pred_ci.index,\n",
        "                 pred_ci.iloc[:, 0],\n",
        "                 pred_ci.iloc[:, 1], color='k', alpha=0.2, label='Confidence Interval')\n",
        "plt.scatter(anomalies.index, anomalies, color='red', label='Anomalies')\n",
        "plt.legend()\n",
        "plt.show()\n",
        "\n",
        "print(\"Аномалии найдены в следующих временных точках:\")\n",
        "print(anomalies)"
      ],
      "metadata": {
        "colab": {
          "base_uri": "https://localhost:8080/"
        },
        "id": "1bhALVKrGQjD",
        "outputId": "9aecbb8b-b14a-4d33-eac4-3b5518193039"
      },
      "execution_count": null,
      "outputs": [
        {
          "output_type": "stream",
          "name": "stdout",
          "text": [
            "  5%|▌         | 1/20 [12:02<3:48:55, 722.95s/trial, best loss: 273780.7124370171]"
          ]
        }
      ]
    },
    {
      "cell_type": "code",
      "source": [],
      "metadata": {
        "id": "yEltkEpilFto"
      },
      "execution_count": null,
      "outputs": []
    },
    {
      "cell_type": "markdown",
      "metadata": {
        "id": "_PQBMb2mkMz5"
      },
      "source": [
        "# Установка"
      ]
    },
    {
      "cell_type": "markdown",
      "metadata": {
        "id": "PT6gBaGgkMz5"
      },
      "source": [
        "Представленный ниже код будет демонстрировать работу библиотеки **Streamlit** прямо в Google Colaboratory.\n",
        "\n"
      ]
    },
    {
      "cell_type": "markdown",
      "metadata": {
        "id": "lvDllF9_kMz6"
      },
      "source": [
        "Для того, чтобы мы могли протестировать работу библиотеки в Colab, потребуется произвести дополнительные настройки. Дело в том, что мы будем тестировать библиотеку на локальном хосте, но Colab по умолчанию не предоставляет доступ к своей виртуальной машине извне.\n",
        "\n",
        "Чтобы обойти это, придется выполнить несколько операций:\n",
        "- скачать специальную утилиту **ngrok**, которая создает туннель для доступа в Colab извне через веб;\n",
        "- получить ссылку, по которой вы сможете обратиться к виртуальной машине Colab, где будет запускаться ваш код.\n",
        "\n",
        "P.s. если вас напугали слова \"хост\", \"порт\", \"туннель\", не пугайтесь :-) Просто запустите следующие ячейки:"
      ]
    },
    {
      "cell_type": "markdown",
      "source": [
        "Для работы с ngrok необходимо пройти процедуру регистрации для получения токена. Выполнити следующие шаги:\n",
        "\n",
        "1. Перейдите по [ссылке](https://dashboard.ngrok.com/login) и пройдите процедуру регистрации (можно выбрать «*вход с помощью учетной записи Google*»)\n",
        "2. После авторизации выберите пункт меню **Your Authtoken**\n",
        "3. Скопируйте Ваш персональный токен\n"
      ],
      "metadata": {
        "id": "9oOgSlh6e6vy"
      }
    },
    {
      "cell_type": "markdown",
      "source": [
        "![pic.jpg](data:image/jpeg;base64,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)"
      ],
      "metadata": {
        "id": "YW_8hCyIjtEs"
      }
    },
    {
      "cell_type": "code",
      "source": [
        "!pip install --upgrade protobuf"
      ],
      "metadata": {
        "id": "CggjEwNrPiXQ",
        "colab": {
          "base_uri": "https://localhost:8080/"
        },
        "outputId": "bdfa91db-e539-49f7-9085-7d07f35f562c"
      },
      "execution_count": null,
      "outputs": [
        {
          "output_type": "stream",
          "name": "stdout",
          "text": [
            "Requirement already satisfied: protobuf in /usr/local/lib/python3.10/dist-packages (3.20.3)\n",
            "Collecting protobuf\n",
            "  Downloading protobuf-5.27.0-cp38-abi3-manylinux2014_x86_64.whl (309 kB)\n",
            "\u001b[2K     \u001b[90m━━━━━━━━━━━━━━━━━━━━━━━━━━━━━━━━━━━━━━━━\u001b[0m \u001b[32m309.2/309.2 kB\u001b[0m \u001b[31m4.3 MB/s\u001b[0m eta \u001b[36m0:00:00\u001b[0m\n",
            "\u001b[?25hInstalling collected packages: protobuf\n",
            "  Attempting uninstall: protobuf\n",
            "    Found existing installation: protobuf 3.20.3\n",
            "    Uninstalling protobuf-3.20.3:\n",
            "      Successfully uninstalled protobuf-3.20.3\n",
            "\u001b[31mERROR: pip's dependency resolver does not currently take into account all the packages that are installed. This behaviour is the source of the following dependency conflicts.\n",
            "cudf-cu12 24.4.1 requires protobuf<5,>=3.20, but you have protobuf 5.27.0 which is incompatible.\n",
            "google-ai-generativelanguage 0.6.4 requires protobuf!=3.20.0,!=3.20.1,!=4.21.0,!=4.21.1,!=4.21.2,!=4.21.3,!=4.21.4,!=4.21.5,<5.0.0dev,>=3.19.5, but you have protobuf 5.27.0 which is incompatible.\n",
            "google-api-core 2.11.1 requires protobuf!=3.20.0,!=3.20.1,!=4.21.0,!=4.21.1,!=4.21.2,!=4.21.3,!=4.21.4,!=4.21.5,<5.0.0.dev0,>=3.19.5, but you have protobuf 5.27.0 which is incompatible.\n",
            "google-cloud-aiplatform 1.52.0 requires protobuf!=3.20.0,!=3.20.1,!=4.21.0,!=4.21.1,!=4.21.2,!=4.21.3,!=4.21.4,!=4.21.5,<5.0.0dev,>=3.19.5, but you have protobuf 5.27.0 which is incompatible.\n",
            "google-cloud-bigquery-connection 1.12.1 requires protobuf!=3.20.0,!=3.20.1,!=4.21.0,!=4.21.1,!=4.21.2,!=4.21.3,!=4.21.4,!=4.21.5,<5.0.0dev,>=3.19.5, but you have protobuf 5.27.0 which is incompatible.\n",
            "google-cloud-bigquery-storage 2.25.0 requires protobuf!=3.20.0,!=3.20.1,!=4.21.0,!=4.21.1,!=4.21.2,!=4.21.3,!=4.21.4,!=4.21.5,<5.0.0dev,>=3.19.5, but you have protobuf 5.27.0 which is incompatible.\n",
            "google-cloud-datastore 2.15.2 requires protobuf!=3.20.0,!=3.20.1,!=4.21.0,!=4.21.1,!=4.21.2,!=4.21.3,!=4.21.4,!=4.21.5,<5.0.0dev,>=3.19.5, but you have protobuf 5.27.0 which is incompatible.\n",
            "google-cloud-firestore 2.11.1 requires protobuf!=3.20.0,!=3.20.1,!=4.21.0,!=4.21.1,!=4.21.2,!=4.21.3,!=4.21.4,!=4.21.5,<5.0.0dev,>=3.19.5, but you have protobuf 5.27.0 which is incompatible.\n",
            "google-cloud-functions 1.13.3 requires protobuf!=3.20.0,!=3.20.1,!=4.21.0,!=4.21.1,!=4.21.2,!=4.21.3,!=4.21.4,!=4.21.5,<5.0.0dev,>=3.19.5, but you have protobuf 5.27.0 which is incompatible.\n",
            "google-cloud-iam 2.15.0 requires protobuf!=3.20.0,!=3.20.1,!=4.21.0,!=4.21.1,!=4.21.2,!=4.21.3,!=4.21.4,!=4.21.5,<5.0.0dev,>=3.19.5, but you have protobuf 5.27.0 which is incompatible.\n",
            "google-cloud-language 2.13.3 requires protobuf!=3.20.0,!=3.20.1,!=4.21.0,!=4.21.1,!=4.21.2,!=4.21.3,!=4.21.4,!=4.21.5,<5.0.0dev,>=3.19.5, but you have protobuf 5.27.0 which is incompatible.\n",
            "google-cloud-resource-manager 1.12.3 requires protobuf!=3.20.0,!=3.20.1,!=4.21.0,!=4.21.1,!=4.21.2,!=4.21.3,!=4.21.4,!=4.21.5,<5.0.0dev,>=3.19.5, but you have protobuf 5.27.0 which is incompatible.\n",
            "google-cloud-translate 3.11.3 requires protobuf!=3.20.0,!=3.20.1,!=4.21.0,!=4.21.1,!=4.21.2,!=4.21.3,!=4.21.4,!=4.21.5,<5.0.0dev,>=3.19.5, but you have protobuf 5.27.0 which is incompatible.\n",
            "googleapis-common-protos 1.63.0 requires protobuf!=3.20.0,!=3.20.1,!=4.21.1,!=4.21.2,!=4.21.3,!=4.21.4,!=4.21.5,<5.0.0.dev0,>=3.19.5, but you have protobuf 5.27.0 which is incompatible.\n",
            "grpc-google-iam-v1 0.13.0 requires protobuf!=3.20.0,!=3.20.1,!=4.21.1,!=4.21.2,!=4.21.3,!=4.21.4,!=4.21.5,<5.0.0dev,>=3.19.5, but you have protobuf 5.27.0 which is incompatible.\n",
            "proto-plus 1.23.0 requires protobuf<5.0.0dev,>=3.19.0, but you have protobuf 5.27.0 which is incompatible.\n",
            "tensorflow 2.15.0 requires protobuf!=4.21.0,!=4.21.1,!=4.21.2,!=4.21.3,!=4.21.4,!=4.21.5,<5.0.0dev,>=3.20.3, but you have protobuf 5.27.0 which is incompatible.\n",
            "tensorflow-metadata 1.15.0 requires protobuf<4.21,>=3.20.3; python_version < \"3.11\", but you have protobuf 5.27.0 which is incompatible.\u001b[0m\u001b[31m\n",
            "\u001b[0mSuccessfully installed protobuf-5.27.0\n"
          ]
        }
      ]
    },
    {
      "cell_type": "markdown",
      "source": [
        "Теперь скачаем дистрибутив ngrok:"
      ],
      "metadata": {
        "id": "hrpRo4wcjAEi"
      }
    },
    {
      "cell_type": "code",
      "metadata": {
        "id": "N-yjKBlGkMz7"
      },
      "source": [
        "!wget -q https://bin.equinox.io/c/4VmDzA7iaHb/ngrok-stable-linux-amd64.zip"
      ],
      "execution_count": null,
      "outputs": []
    },
    {
      "cell_type": "code",
      "metadata": {
        "id": "VGDpYCbNkMz7"
      },
      "source": [
        "!unzip -q ngrok-stable-linux-amd64.zip"
      ],
      "execution_count": null,
      "outputs": []
    },
    {
      "cell_type": "markdown",
      "source": [
        "Остался последний шаг: выполним авторизацию в ngrok:"
      ],
      "metadata": {
        "id": "-x0rZ4E0jHm3"
      }
    },
    {
      "cell_type": "code",
      "source": [
        "!./ngrok authtoken 2V9RmRYkzZlKfzcx4XTU90iQ9wb_419CUJymPbfTtrjUTaSB6"
      ],
      "metadata": {
        "colab": {
          "base_uri": "https://localhost:8080/"
        },
        "id": "_iE_7juagldz",
        "outputId": "ab1a21ba-27ec-4128-b2df-95b1864c48ef"
      },
      "execution_count": null,
      "outputs": [
        {
          "output_type": "stream",
          "name": "stdout",
          "text": [
            "Authtoken saved to configuration file: /root/.ngrok2/ngrok.yml\n"
          ]
        }
      ]
    },
    {
      "cell_type": "markdown",
      "source": [
        "Вместо **xxxxxxxxxxxxxxxxxxxxxxxxxxxxxxxxxxxxxxxxx** укажите свой token, скопированный выше в личном кабинете"
      ],
      "metadata": {
        "id": "OdytnSh-jWZ4"
      }
    },
    {
      "cell_type": "code",
      "metadata": {
        "id": "rD9MsFJOkMz9"
      },
      "source": [
        "def get_link():\n",
        "    get_ipython().system_raw('./ngrok http 8501 &')\n",
        "    !curl -s http://localhost:4040/api/tunnels | python3 -c \\\n",
        "    'import sys, json; print(\"Ссылка для streamlit: \" +json.load(sys.stdin)[\"tunnels\"][0][\"public_url\"])'"
      ],
      "execution_count": null,
      "outputs": []
    },
    {
      "cell_type": "markdown",
      "metadata": {
        "id": "CwenuJNykMz9"
      },
      "source": [
        "<a name=\"getlink\"></a>\n",
        "В дальнейшем вам пригодится функция `get_link()`, вызвав которую:"
      ]
    },
    {
      "cell_type": "markdown",
      "metadata": {
        "id": "nbJK_up8kMz-"
      },
      "source": [
        "вы получите ссылку для доступа в Colab через веб-браузер из любого места в Сети.\n",
        "\n",
        "**Замечание**. Иногда при вызове функции вы можете получить ошибку. В этом случае просто перезапустите ячейку еще раз.\n",
        "\n",
        "Если сейчас перейти по этой ссылке, то вы увидите страницу с ошибкой. Наберитесь терпения и двигайтесь дальше ;-)"
      ]
    },
    {
      "cell_type": "code",
      "metadata": {
        "id": "6w8g5kcBkMz-",
        "colab": {
          "base_uri": "https://localhost:8080/"
        },
        "outputId": "b20b6aa3-7821-42a0-cea3-b9872c37c532"
      },
      "source": [
        "get_link()"
      ],
      "execution_count": null,
      "outputs": [
        {
          "output_type": "stream",
          "name": "stdout",
          "text": [
            "Traceback (most recent call last):\n",
            "  File \"<string>\", line 1, in <module>\n",
            "  File \"/usr/lib/python3.10/json/__init__.py\", line 293, in load\n",
            "    return loads(fp.read(),\n",
            "  File \"/usr/lib/python3.10/json/__init__.py\", line 346, in loads\n",
            "    return _default_decoder.decode(s)\n",
            "  File \"/usr/lib/python3.10/json/decoder.py\", line 337, in decode\n",
            "    obj, end = self.raw_decode(s, idx=_w(s, 0).end())\n",
            "  File \"/usr/lib/python3.10/json/decoder.py\", line 355, in raw_decode\n",
            "    raise JSONDecodeError(\"Expecting value\", s, err.value) from None\n",
            "json.decoder.JSONDecodeError: Expecting value: line 1 column 1 (char 0)\n"
          ]
        }
      ]
    },
    {
      "cell_type": "markdown",
      "metadata": {
        "id": "C3svYrwhkMz-"
      },
      "source": [
        "Далее следует установить библиотеку **Streamlit**. Сделать это можно с помощью команды:"
      ]
    },
    {
      "cell_type": "code",
      "metadata": {
        "colab": {
          "base_uri": "https://localhost:8080/"
        },
        "id": "wDzeui27kMz-",
        "outputId": "5d85eca7-efaf-4c81-c178-934b7f4c36a1"
      },
      "source": [
        "!pip -q install streamlit"
      ],
      "execution_count": null,
      "outputs": [
        {
          "output_type": "stream",
          "name": "stdout",
          "text": [
            "\u001b[2K     \u001b[90m━━━━━━━━━━━━━━━━━━━━━━━━━━━━━━━━━━━━━━━━\u001b[0m \u001b[32m8.6/8.6 MB\u001b[0m \u001b[31m38.0 MB/s\u001b[0m eta \u001b[36m0:00:00\u001b[0m\n",
            "\u001b[2K     \u001b[90m━━━━━━━━━━━━━━━━━━━━━━━━━━━━━━━━━━━━━━━━\u001b[0m \u001b[32m294.6/294.6 kB\u001b[0m \u001b[31m29.6 MB/s\u001b[0m eta \u001b[36m0:00:00\u001b[0m\n",
            "\u001b[2K     \u001b[90m━━━━━━━━━━━━━━━━━━━━━━━━━━━━━━━━━━━━━━━━\u001b[0m \u001b[32m207.3/207.3 kB\u001b[0m \u001b[31m23.3 MB/s\u001b[0m eta \u001b[36m0:00:00\u001b[0m\n",
            "\u001b[2K     \u001b[90m━━━━━━━━━━━━━━━━━━━━━━━━━━━━━━━━━━━━━━━━\u001b[0m \u001b[32m6.9/6.9 MB\u001b[0m \u001b[31m75.1 MB/s\u001b[0m eta \u001b[36m0:00:00\u001b[0m\n",
            "\u001b[2K     \u001b[90m━━━━━━━━━━━━━━━━━━━━━━━━━━━━━━━━━━━━━━━━\u001b[0m \u001b[32m83.0/83.0 kB\u001b[0m \u001b[31m9.9 MB/s\u001b[0m eta \u001b[36m0:00:00\u001b[0m\n",
            "\u001b[2K     \u001b[90m━━━━━━━━━━━━━━━━━━━━━━━━━━━━━━━━━━━━━━━━\u001b[0m \u001b[32m62.7/62.7 kB\u001b[0m \u001b[31m7.2 MB/s\u001b[0m eta \u001b[36m0:00:00\u001b[0m\n",
            "\u001b[?25h\u001b[31mERROR: pip's dependency resolver does not currently take into account all the packages that are installed. This behaviour is the source of the following dependency conflicts.\n",
            "tensorflow-metadata 1.15.0 requires protobuf<4.21,>=3.20.3; python_version < \"3.11\", but you have protobuf 4.25.3 which is incompatible.\u001b[0m\u001b[31m\n",
            "\u001b[0m"
          ]
        }
      ]
    },
    {
      "cell_type": "markdown",
      "metadata": {
        "id": "nldEoIlXkMz_"
      },
      "source": [
        "<a name=\"check\"></a>\n",
        "Проверьте правильность установки, запустив команду:"
      ]
    },
    {
      "cell_type": "code",
      "metadata": {
        "colab": {
          "base_uri": "https://localhost:8080/"
        },
        "id": "A7EEPLRtkMz_",
        "outputId": "a0692143-86c9-40d6-a538-e4c0241c6c1e"
      },
      "source": [
        "!streamlit hello"
      ],
      "execution_count": null,
      "outputs": [
        {
          "output_type": "stream",
          "name": "stdout",
          "text": [
            "\n",
            "Collecting usage statistics. To deactivate, set browser.gatherUsageStats to false.\n",
            "\u001b[0m\n",
            "\u001b[0m\n",
            "\u001b[34m\u001b[1m  Welcome to Streamlit. Check out our demo in your browser.\u001b[0m\n",
            "\u001b[0m\n",
            "\u001b[34m  Local URL: \u001b[0m\u001b[1mhttp://localhost:8501\u001b[0m\n",
            "\u001b[34m  Network URL: \u001b[0m\u001b[1mhttp://172.28.0.12:8501\u001b[0m\n",
            "\u001b[34m  External URL: \u001b[0m\u001b[1mhttp://35.196.152.50:8501\u001b[0m\n",
            "\u001b[0m\n",
            "  Ready to create your own Python apps super quickly?\u001b[0m\n",
            "  Head over to \u001b[0m\u001b[1mhttps://docs.streamlit.io\u001b[0m\n",
            "\u001b[0m\n",
            "  May you create awesome apps!\u001b[0m\n",
            "\u001b[0m\n",
            "\u001b[0m\n",
            "\u001b[34m  Stopping...\u001b[0m\n",
            "^C\n"
          ]
        }
      ]
    },
    {
      "cell_type": "markdown",
      "metadata": {
        "id": "tndS6Sa4kM0A"
      },
      "source": [
        "Теперь у вас есть возможность увидеть инструмент **Streamlit** в действии! Сейчас вы видите работающую ячейку. Не останавливая ее, перейдите по сслыке, которую вы получили с помощью функции `get_link()` [ранее](#getlink)."
      ]
    },
    {
      "cell_type": "markdown",
      "metadata": {
        "id": "6Rrcs2X6dwm_"
      },
      "source": [
        "\n",
        "\n",
        "```\n",
        "Логика такая: `Streamlit` запускается на локальном хосте (127.0.0.1).\n",
        "Но в колабе нельзя получить доступ к локальному хосту.\n",
        "Поэтому с помощью утилиты `ngrok` создается специальный туннель к локальному хосту колаба.\n",
        "\n",
        "Функции get_link() как раз возвращает ссылку на этот созданный туннель.\n",
        "Но! После того, как мы останавливаем приложение `Streamlit` в колабе\n",
        "(нажимаем на стоп ячейки), туннель закрывается и нужно создавать новый.\n",
        "\n",
        "```\n"
      ]
    },
    {
      "cell_type": "markdown",
      "metadata": {
        "id": "KKpESeGfkM0A"
      },
      "source": [
        "В новой вкладке браузера вы увидите вот такую страницу:"
      ]
    },
    {
      "cell_type": "markdown",
      "metadata": {
        "id": "TtFj3fiFkM0A"
      },
      "source": [
        "![404.PNG](data:image/png;base64,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)"
      ]
    },
    {
      "cell_type": "markdown",
      "metadata": {
        "id": "5UwF4ppykM0B"
      },
      "source": [
        "Все работает отлично! Можно двигаться дальше.\n",
        "\n",
        "Библиотека **Streamlit** имеет широкий функционал и позволяет создавать графики, дашборды и карты, а также красиво визуализировать таблицы Pandas (**DataFrame**)."
      ]
    },
    {
      "cell_type": "code",
      "source": [
        "!pip install pandas\n",
        "!pip install statsmodels\n",
        "!pip install matplotlib\n",
        "!pip install openpyxl\n",
        "!pip install streamlit"
      ],
      "metadata": {
        "colab": {
          "base_uri": "https://localhost:8080/"
        },
        "id": "XfBdKZbumNt9",
        "outputId": "a6806f37-2f85-4479-f96b-7de02e0fffd0"
      },
      "execution_count": null,
      "outputs": [
        {
          "output_type": "stream",
          "name": "stdout",
          "text": [
            "Requirement already satisfied: pandas in /usr/local/lib/python3.10/dist-packages (2.0.3)\n",
            "Requirement already satisfied: python-dateutil>=2.8.2 in /usr/local/lib/python3.10/dist-packages (from pandas) (2.8.2)\n",
            "Requirement already satisfied: pytz>=2020.1 in /usr/local/lib/python3.10/dist-packages (from pandas) (2023.4)\n",
            "Requirement already satisfied: tzdata>=2022.1 in /usr/local/lib/python3.10/dist-packages (from pandas) (2024.1)\n",
            "Requirement already satisfied: numpy>=1.21.0 in /usr/local/lib/python3.10/dist-packages (from pandas) (1.25.2)\n",
            "Requirement already satisfied: six>=1.5 in /usr/local/lib/python3.10/dist-packages (from python-dateutil>=2.8.2->pandas) (1.16.0)\n",
            "Requirement already satisfied: statsmodels in /usr/local/lib/python3.10/dist-packages (0.14.2)\n",
            "Requirement already satisfied: numpy>=1.22.3 in /usr/local/lib/python3.10/dist-packages (from statsmodels) (1.25.2)\n",
            "Requirement already satisfied: scipy!=1.9.2,>=1.8 in /usr/local/lib/python3.10/dist-packages (from statsmodels) (1.11.4)\n",
            "Requirement already satisfied: pandas!=2.1.0,>=1.4 in /usr/local/lib/python3.10/dist-packages (from statsmodels) (2.0.3)\n",
            "Requirement already satisfied: patsy>=0.5.6 in /usr/local/lib/python3.10/dist-packages (from statsmodels) (0.5.6)\n",
            "Requirement already satisfied: packaging>=21.3 in /usr/local/lib/python3.10/dist-packages (from statsmodels) (24.0)\n",
            "Requirement already satisfied: python-dateutil>=2.8.2 in /usr/local/lib/python3.10/dist-packages (from pandas!=2.1.0,>=1.4->statsmodels) (2.8.2)\n",
            "Requirement already satisfied: pytz>=2020.1 in /usr/local/lib/python3.10/dist-packages (from pandas!=2.1.0,>=1.4->statsmodels) (2023.4)\n",
            "Requirement already satisfied: tzdata>=2022.1 in /usr/local/lib/python3.10/dist-packages (from pandas!=2.1.0,>=1.4->statsmodels) (2024.1)\n",
            "Requirement already satisfied: six in /usr/local/lib/python3.10/dist-packages (from patsy>=0.5.6->statsmodels) (1.16.0)\n",
            "Requirement already satisfied: matplotlib in /usr/local/lib/python3.10/dist-packages (3.7.1)\n",
            "Requirement already satisfied: contourpy>=1.0.1 in /usr/local/lib/python3.10/dist-packages (from matplotlib) (1.2.1)\n",
            "Requirement already satisfied: cycler>=0.10 in /usr/local/lib/python3.10/dist-packages (from matplotlib) (0.12.1)\n",
            "Requirement already satisfied: fonttools>=4.22.0 in /usr/local/lib/python3.10/dist-packages (from matplotlib) (4.51.0)\n",
            "Requirement already satisfied: kiwisolver>=1.0.1 in /usr/local/lib/python3.10/dist-packages (from matplotlib) (1.4.5)\n",
            "Requirement already satisfied: numpy>=1.20 in /usr/local/lib/python3.10/dist-packages (from matplotlib) (1.25.2)\n",
            "Requirement already satisfied: packaging>=20.0 in /usr/local/lib/python3.10/dist-packages (from matplotlib) (24.0)\n",
            "Requirement already satisfied: pillow>=6.2.0 in /usr/local/lib/python3.10/dist-packages (from matplotlib) (9.4.0)\n",
            "Requirement already satisfied: pyparsing>=2.3.1 in /usr/local/lib/python3.10/dist-packages (from matplotlib) (3.1.2)\n",
            "Requirement already satisfied: python-dateutil>=2.7 in /usr/local/lib/python3.10/dist-packages (from matplotlib) (2.8.2)\n",
            "Requirement already satisfied: six>=1.5 in /usr/local/lib/python3.10/dist-packages (from python-dateutil>=2.7->matplotlib) (1.16.0)\n",
            "Requirement already satisfied: openpyxl in /usr/local/lib/python3.10/dist-packages (3.1.2)\n",
            "Requirement already satisfied: et-xmlfile in /usr/local/lib/python3.10/dist-packages (from openpyxl) (1.1.0)\n",
            "Requirement already satisfied: streamlit in /usr/local/lib/python3.10/dist-packages (1.35.0)\n",
            "Requirement already satisfied: altair<6,>=4.0 in /usr/local/lib/python3.10/dist-packages (from streamlit) (4.2.2)\n",
            "Requirement already satisfied: blinker<2,>=1.0.0 in /usr/lib/python3/dist-packages (from streamlit) (1.4)\n",
            "Requirement already satisfied: cachetools<6,>=4.0 in /usr/local/lib/python3.10/dist-packages (from streamlit) (5.3.3)\n",
            "Requirement already satisfied: click<9,>=7.0 in /usr/local/lib/python3.10/dist-packages (from streamlit) (8.1.7)\n",
            "Requirement already satisfied: numpy<2,>=1.19.3 in /usr/local/lib/python3.10/dist-packages (from streamlit) (1.25.2)\n",
            "Requirement already satisfied: packaging<25,>=16.8 in /usr/local/lib/python3.10/dist-packages (from streamlit) (24.0)\n",
            "Requirement already satisfied: pandas<3,>=1.3.0 in /usr/local/lib/python3.10/dist-packages (from streamlit) (2.0.3)\n",
            "Requirement already satisfied: pillow<11,>=7.1.0 in /usr/local/lib/python3.10/dist-packages (from streamlit) (9.4.0)\n",
            "Requirement already satisfied: protobuf<5,>=3.20 in /usr/local/lib/python3.10/dist-packages (from streamlit) (4.25.3)\n",
            "Requirement already satisfied: pyarrow>=7.0 in /usr/local/lib/python3.10/dist-packages (from streamlit) (14.0.2)\n",
            "Requirement already satisfied: requests<3,>=2.27 in /usr/local/lib/python3.10/dist-packages (from streamlit) (2.31.0)\n",
            "Requirement already satisfied: rich<14,>=10.14.0 in /usr/local/lib/python3.10/dist-packages (from streamlit) (13.7.1)\n",
            "Requirement already satisfied: tenacity<9,>=8.1.0 in /usr/local/lib/python3.10/dist-packages (from streamlit) (8.3.0)\n",
            "Requirement already satisfied: toml<2,>=0.10.1 in /usr/local/lib/python3.10/dist-packages (from streamlit) (0.10.2)\n",
            "Requirement already satisfied: typing-extensions<5,>=4.3.0 in /usr/local/lib/python3.10/dist-packages (from streamlit) (4.11.0)\n",
            "Requirement already satisfied: gitpython!=3.1.19,<4,>=3.0.7 in /usr/local/lib/python3.10/dist-packages (from streamlit) (3.1.43)\n",
            "Requirement already satisfied: pydeck<1,>=0.8.0b4 in /usr/local/lib/python3.10/dist-packages (from streamlit) (0.9.1)\n",
            "Requirement already satisfied: tornado<7,>=6.0.3 in /usr/local/lib/python3.10/dist-packages (from streamlit) (6.3.3)\n",
            "Requirement already satisfied: watchdog>=2.1.5 in /usr/local/lib/python3.10/dist-packages (from streamlit) (4.0.1)\n",
            "Requirement already satisfied: entrypoints in /usr/local/lib/python3.10/dist-packages (from altair<6,>=4.0->streamlit) (0.4)\n",
            "Requirement already satisfied: jinja2 in /usr/local/lib/python3.10/dist-packages (from altair<6,>=4.0->streamlit) (3.1.4)\n",
            "Requirement already satisfied: jsonschema>=3.0 in /usr/local/lib/python3.10/dist-packages (from altair<6,>=4.0->streamlit) (4.19.2)\n",
            "Requirement already satisfied: toolz in /usr/local/lib/python3.10/dist-packages (from altair<6,>=4.0->streamlit) (0.12.1)\n",
            "Requirement already satisfied: gitdb<5,>=4.0.1 in /usr/local/lib/python3.10/dist-packages (from gitpython!=3.1.19,<4,>=3.0.7->streamlit) (4.0.11)\n",
            "Requirement already satisfied: python-dateutil>=2.8.2 in /usr/local/lib/python3.10/dist-packages (from pandas<3,>=1.3.0->streamlit) (2.8.2)\n",
            "Requirement already satisfied: pytz>=2020.1 in /usr/local/lib/python3.10/dist-packages (from pandas<3,>=1.3.0->streamlit) (2023.4)\n",
            "Requirement already satisfied: tzdata>=2022.1 in /usr/local/lib/python3.10/dist-packages (from pandas<3,>=1.3.0->streamlit) (2024.1)\n",
            "Requirement already satisfied: charset-normalizer<4,>=2 in /usr/local/lib/python3.10/dist-packages (from requests<3,>=2.27->streamlit) (3.3.2)\n",
            "Requirement already satisfied: idna<4,>=2.5 in /usr/local/lib/python3.10/dist-packages (from requests<3,>=2.27->streamlit) (3.7)\n",
            "Requirement already satisfied: urllib3<3,>=1.21.1 in /usr/local/lib/python3.10/dist-packages (from requests<3,>=2.27->streamlit) (2.0.7)\n",
            "Requirement already satisfied: certifi>=2017.4.17 in /usr/local/lib/python3.10/dist-packages (from requests<3,>=2.27->streamlit) (2024.2.2)\n",
            "Requirement already satisfied: markdown-it-py>=2.2.0 in /usr/local/lib/python3.10/dist-packages (from rich<14,>=10.14.0->streamlit) (3.0.0)\n",
            "Requirement already satisfied: pygments<3.0.0,>=2.13.0 in /usr/local/lib/python3.10/dist-packages (from rich<14,>=10.14.0->streamlit) (2.16.1)\n",
            "Requirement already satisfied: smmap<6,>=3.0.1 in /usr/local/lib/python3.10/dist-packages (from gitdb<5,>=4.0.1->gitpython!=3.1.19,<4,>=3.0.7->streamlit) (5.0.1)\n",
            "Requirement already satisfied: MarkupSafe>=2.0 in /usr/local/lib/python3.10/dist-packages (from jinja2->altair<6,>=4.0->streamlit) (2.1.5)\n",
            "Requirement already satisfied: attrs>=22.2.0 in /usr/local/lib/python3.10/dist-packages (from jsonschema>=3.0->altair<6,>=4.0->streamlit) (23.2.0)\n",
            "Requirement already satisfied: jsonschema-specifications>=2023.03.6 in /usr/local/lib/python3.10/dist-packages (from jsonschema>=3.0->altair<6,>=4.0->streamlit) (2023.12.1)\n",
            "Requirement already satisfied: referencing>=0.28.4 in /usr/local/lib/python3.10/dist-packages (from jsonschema>=3.0->altair<6,>=4.0->streamlit) (0.35.1)\n",
            "Requirement already satisfied: rpds-py>=0.7.1 in /usr/local/lib/python3.10/dist-packages (from jsonschema>=3.0->altair<6,>=4.0->streamlit) (0.18.1)\n",
            "Requirement already satisfied: mdurl~=0.1 in /usr/local/lib/python3.10/dist-packages (from markdown-it-py>=2.2.0->rich<14,>=10.14.0->streamlit) (0.1.2)\n",
            "Requirement already satisfied: six>=1.5 in /usr/local/lib/python3.10/dist-packages (from python-dateutil>=2.8.2->pandas<3,>=1.3.0->streamlit) (1.16.0)\n"
          ]
        }
      ]
    },
    {
      "cell_type": "markdown",
      "source": [
        "# Fast-Api сервер для поиска аномалий"
      ],
      "metadata": {
        "id": "8LNGFvNzlm9q"
      }
    },
    {
      "cell_type": "code",
      "source": [
        "!pip install fastapi\n",
        "!pip install uvicorn\n",
        "!pip install pandas\n",
        "!pip install numpy\n",
        "!pip install statsmodels\n",
        "!pip install matplotlib\n",
        "!pip install openpyxl\n",
        "!pip install hyperopt\n",
        "!pip install Jinja2\n",
        "!pip install loguru"
      ],
      "metadata": {
        "colab": {
          "base_uri": "https://localhost:8080/"
        },
        "id": "130iqAlaEWwo",
        "outputId": "8d37223e-4419-4c11-d0f7-b770dd39df8b"
      },
      "execution_count": null,
      "outputs": [
        {
          "output_type": "stream",
          "name": "stdout",
          "text": [
            "Requirement already satisfied: fastapi in /usr/local/lib/python3.10/dist-packages (0.111.0)\n",
            "Requirement already satisfied: starlette<0.38.0,>=0.37.2 in /usr/local/lib/python3.10/dist-packages (from fastapi) (0.37.2)\n",
            "Requirement already satisfied: pydantic!=1.8,!=1.8.1,!=2.0.0,!=2.0.1,!=2.1.0,<3.0.0,>=1.7.4 in /usr/local/lib/python3.10/dist-packages (from fastapi) (2.7.1)\n",
            "Requirement already satisfied: typing-extensions>=4.8.0 in /usr/local/lib/python3.10/dist-packages (from fastapi) (4.11.0)\n",
            "Requirement already satisfied: fastapi-cli>=0.0.2 in /usr/local/lib/python3.10/dist-packages (from fastapi) (0.0.4)\n",
            "Requirement already satisfied: httpx>=0.23.0 in /usr/local/lib/python3.10/dist-packages (from fastapi) (0.27.0)\n",
            "Requirement already satisfied: jinja2>=2.11.2 in /usr/local/lib/python3.10/dist-packages (from fastapi) (3.1.4)\n",
            "Requirement already satisfied: python-multipart>=0.0.7 in /usr/local/lib/python3.10/dist-packages (from fastapi) (0.0.9)\n",
            "Requirement already satisfied: ujson!=4.0.2,!=4.1.0,!=4.2.0,!=4.3.0,!=5.0.0,!=5.1.0,>=4.0.1 in /usr/local/lib/python3.10/dist-packages (from fastapi) (5.10.0)\n",
            "Requirement already satisfied: orjson>=3.2.1 in /usr/local/lib/python3.10/dist-packages (from fastapi) (3.10.3)\n",
            "Requirement already satisfied: email_validator>=2.0.0 in /usr/local/lib/python3.10/dist-packages (from fastapi) (2.1.1)\n",
            "Requirement already satisfied: uvicorn[standard]>=0.12.0 in /usr/local/lib/python3.10/dist-packages (from fastapi) (0.29.0)\n",
            "Requirement already satisfied: dnspython>=2.0.0 in /usr/local/lib/python3.10/dist-packages (from email_validator>=2.0.0->fastapi) (2.6.1)\n",
            "Requirement already satisfied: idna>=2.0.0 in /usr/local/lib/python3.10/dist-packages (from email_validator>=2.0.0->fastapi) (3.7)\n",
            "Requirement already satisfied: typer>=0.12.3 in /usr/local/lib/python3.10/dist-packages (from fastapi-cli>=0.0.2->fastapi) (0.12.3)\n",
            "Requirement already satisfied: anyio in /usr/local/lib/python3.10/dist-packages (from httpx>=0.23.0->fastapi) (3.7.1)\n",
            "Requirement already satisfied: certifi in /usr/local/lib/python3.10/dist-packages (from httpx>=0.23.0->fastapi) (2024.2.2)\n",
            "Requirement already satisfied: httpcore==1.* in /usr/local/lib/python3.10/dist-packages (from httpx>=0.23.0->fastapi) (1.0.5)\n",
            "Requirement already satisfied: sniffio in /usr/local/lib/python3.10/dist-packages (from httpx>=0.23.0->fastapi) (1.3.1)\n",
            "Requirement already satisfied: h11<0.15,>=0.13 in /usr/local/lib/python3.10/dist-packages (from httpcore==1.*->httpx>=0.23.0->fastapi) (0.14.0)\n",
            "Requirement already satisfied: MarkupSafe>=2.0 in /usr/local/lib/python3.10/dist-packages (from jinja2>=2.11.2->fastapi) (2.1.5)\n",
            "Requirement already satisfied: annotated-types>=0.4.0 in /usr/local/lib/python3.10/dist-packages (from pydantic!=1.8,!=1.8.1,!=2.0.0,!=2.0.1,!=2.1.0,<3.0.0,>=1.7.4->fastapi) (0.7.0)\n",
            "Requirement already satisfied: pydantic-core==2.18.2 in /usr/local/lib/python3.10/dist-packages (from pydantic!=1.8,!=1.8.1,!=2.0.0,!=2.0.1,!=2.1.0,<3.0.0,>=1.7.4->fastapi) (2.18.2)\n",
            "Requirement already satisfied: click>=7.0 in /usr/local/lib/python3.10/dist-packages (from uvicorn[standard]>=0.12.0->fastapi) (8.1.7)\n",
            "Requirement already satisfied: httptools>=0.5.0 in /usr/local/lib/python3.10/dist-packages (from uvicorn[standard]>=0.12.0->fastapi) (0.6.1)\n",
            "Requirement already satisfied: python-dotenv>=0.13 in /usr/local/lib/python3.10/dist-packages (from uvicorn[standard]>=0.12.0->fastapi) (1.0.1)\n",
            "Requirement already satisfied: pyyaml>=5.1 in /usr/local/lib/python3.10/dist-packages (from uvicorn[standard]>=0.12.0->fastapi) (6.0.1)\n",
            "Requirement already satisfied: uvloop!=0.15.0,!=0.15.1,>=0.14.0 in /usr/local/lib/python3.10/dist-packages (from uvicorn[standard]>=0.12.0->fastapi) (0.19.0)\n",
            "Requirement already satisfied: watchfiles>=0.13 in /usr/local/lib/python3.10/dist-packages (from uvicorn[standard]>=0.12.0->fastapi) (0.21.0)\n",
            "Requirement already satisfied: websockets>=10.4 in /usr/local/lib/python3.10/dist-packages (from uvicorn[standard]>=0.12.0->fastapi) (12.0)\n",
            "Requirement already satisfied: exceptiongroup in /usr/local/lib/python3.10/dist-packages (from anyio->httpx>=0.23.0->fastapi) (1.2.1)\n",
            "Requirement already satisfied: shellingham>=1.3.0 in /usr/local/lib/python3.10/dist-packages (from typer>=0.12.3->fastapi-cli>=0.0.2->fastapi) (1.5.4)\n",
            "Requirement already satisfied: rich>=10.11.0 in /usr/local/lib/python3.10/dist-packages (from typer>=0.12.3->fastapi-cli>=0.0.2->fastapi) (13.7.1)\n",
            "Requirement already satisfied: markdown-it-py>=2.2.0 in /usr/local/lib/python3.10/dist-packages (from rich>=10.11.0->typer>=0.12.3->fastapi-cli>=0.0.2->fastapi) (3.0.0)\n",
            "Requirement already satisfied: pygments<3.0.0,>=2.13.0 in /usr/local/lib/python3.10/dist-packages (from rich>=10.11.0->typer>=0.12.3->fastapi-cli>=0.0.2->fastapi) (2.16.1)\n",
            "Requirement already satisfied: mdurl~=0.1 in /usr/local/lib/python3.10/dist-packages (from markdown-it-py>=2.2.0->rich>=10.11.0->typer>=0.12.3->fastapi-cli>=0.0.2->fastapi) (0.1.2)\n",
            "Requirement already satisfied: uvicorn in /usr/local/lib/python3.10/dist-packages (0.29.0)\n",
            "Requirement already satisfied: click>=7.0 in /usr/local/lib/python3.10/dist-packages (from uvicorn) (8.1.7)\n",
            "Requirement already satisfied: h11>=0.8 in /usr/local/lib/python3.10/dist-packages (from uvicorn) (0.14.0)\n",
            "Requirement already satisfied: typing-extensions>=4.0 in /usr/local/lib/python3.10/dist-packages (from uvicorn) (4.11.0)\n",
            "Requirement already satisfied: pandas in /usr/local/lib/python3.10/dist-packages (2.0.3)\n",
            "Requirement already satisfied: python-dateutil>=2.8.2 in /usr/local/lib/python3.10/dist-packages (from pandas) (2.8.2)\n",
            "Requirement already satisfied: pytz>=2020.1 in /usr/local/lib/python3.10/dist-packages (from pandas) (2023.4)\n",
            "Requirement already satisfied: tzdata>=2022.1 in /usr/local/lib/python3.10/dist-packages (from pandas) (2024.1)\n",
            "Requirement already satisfied: numpy>=1.21.0 in /usr/local/lib/python3.10/dist-packages (from pandas) (1.25.2)\n",
            "Requirement already satisfied: six>=1.5 in /usr/local/lib/python3.10/dist-packages (from python-dateutil>=2.8.2->pandas) (1.16.0)\n",
            "Requirement already satisfied: numpy in /usr/local/lib/python3.10/dist-packages (1.25.2)\n",
            "Requirement already satisfied: statsmodels in /usr/local/lib/python3.10/dist-packages (0.14.2)\n",
            "Requirement already satisfied: numpy>=1.22.3 in /usr/local/lib/python3.10/dist-packages (from statsmodels) (1.25.2)\n",
            "Requirement already satisfied: scipy!=1.9.2,>=1.8 in /usr/local/lib/python3.10/dist-packages (from statsmodels) (1.11.4)\n",
            "Requirement already satisfied: pandas!=2.1.0,>=1.4 in /usr/local/lib/python3.10/dist-packages (from statsmodels) (2.0.3)\n",
            "Requirement already satisfied: patsy>=0.5.6 in /usr/local/lib/python3.10/dist-packages (from statsmodels) (0.5.6)\n",
            "Requirement already satisfied: packaging>=21.3 in /usr/local/lib/python3.10/dist-packages (from statsmodels) (24.0)\n",
            "Requirement already satisfied: python-dateutil>=2.8.2 in /usr/local/lib/python3.10/dist-packages (from pandas!=2.1.0,>=1.4->statsmodels) (2.8.2)\n",
            "Requirement already satisfied: pytz>=2020.1 in /usr/local/lib/python3.10/dist-packages (from pandas!=2.1.0,>=1.4->statsmodels) (2023.4)\n",
            "Requirement already satisfied: tzdata>=2022.1 in /usr/local/lib/python3.10/dist-packages (from pandas!=2.1.0,>=1.4->statsmodels) (2024.1)\n",
            "Requirement already satisfied: six in /usr/local/lib/python3.10/dist-packages (from patsy>=0.5.6->statsmodels) (1.16.0)\n",
            "Requirement already satisfied: matplotlib in /usr/local/lib/python3.10/dist-packages (3.7.1)\n",
            "Requirement already satisfied: contourpy>=1.0.1 in /usr/local/lib/python3.10/dist-packages (from matplotlib) (1.2.1)\n",
            "Requirement already satisfied: cycler>=0.10 in /usr/local/lib/python3.10/dist-packages (from matplotlib) (0.12.1)\n",
            "Requirement already satisfied: fonttools>=4.22.0 in /usr/local/lib/python3.10/dist-packages (from matplotlib) (4.51.0)\n",
            "Requirement already satisfied: kiwisolver>=1.0.1 in /usr/local/lib/python3.10/dist-packages (from matplotlib) (1.4.5)\n",
            "Requirement already satisfied: numpy>=1.20 in /usr/local/lib/python3.10/dist-packages (from matplotlib) (1.25.2)\n",
            "Requirement already satisfied: packaging>=20.0 in /usr/local/lib/python3.10/dist-packages (from matplotlib) (24.0)\n",
            "Requirement already satisfied: pillow>=6.2.0 in /usr/local/lib/python3.10/dist-packages (from matplotlib) (9.4.0)\n",
            "Requirement already satisfied: pyparsing>=2.3.1 in /usr/local/lib/python3.10/dist-packages (from matplotlib) (3.1.2)\n",
            "Requirement already satisfied: python-dateutil>=2.7 in /usr/local/lib/python3.10/dist-packages (from matplotlib) (2.8.2)\n",
            "Requirement already satisfied: six>=1.5 in /usr/local/lib/python3.10/dist-packages (from python-dateutil>=2.7->matplotlib) (1.16.0)\n",
            "Requirement already satisfied: hyperopt in /usr/local/lib/python3.10/dist-packages (0.2.7)\n",
            "Requirement already satisfied: numpy in /usr/local/lib/python3.10/dist-packages (from hyperopt) (1.25.2)\n",
            "Requirement already satisfied: scipy in /usr/local/lib/python3.10/dist-packages (from hyperopt) (1.11.4)\n",
            "Requirement already satisfied: six in /usr/local/lib/python3.10/dist-packages (from hyperopt) (1.16.0)\n",
            "Requirement already satisfied: networkx>=2.2 in /usr/local/lib/python3.10/dist-packages (from hyperopt) (3.3)\n",
            "Requirement already satisfied: future in /usr/local/lib/python3.10/dist-packages (from hyperopt) (0.18.3)\n",
            "Requirement already satisfied: tqdm in /usr/local/lib/python3.10/dist-packages (from hyperopt) (4.66.4)\n",
            "Requirement already satisfied: cloudpickle in /usr/local/lib/python3.10/dist-packages (from hyperopt) (2.2.1)\n",
            "Requirement already satisfied: py4j in /usr/local/lib/python3.10/dist-packages (from hyperopt) (0.10.9.7)\n",
            "Requirement already satisfied: Jinja2 in /usr/local/lib/python3.10/dist-packages (3.1.4)\n",
            "Requirement already satisfied: MarkupSafe>=2.0 in /usr/local/lib/python3.10/dist-packages (from Jinja2) (2.1.5)\n",
            "Collecting loguru\n",
            "  Downloading loguru-0.7.2-py3-none-any.whl (62 kB)\n",
            "\u001b[2K     \u001b[90m━━━━━━━━━━━━━━━━━━━━━━━━━━━━━━━━━━━━━━━━\u001b[0m \u001b[32m62.5/62.5 kB\u001b[0m \u001b[31m1.7 MB/s\u001b[0m eta \u001b[36m0:00:00\u001b[0m\n",
            "\u001b[?25hInstalling collected packages: loguru\n",
            "Successfully installed loguru-0.7.2\n"
          ]
        }
      ]
    },
    {
      "cell_type": "code",
      "source": [
        "codes = '''\n",
        "import io\n",
        "from datetime import datetime, timedelta\n",
        "from typing import Optional\n",
        "import pandas as pd\n",
        "import numpy as np\n",
        "from statsmodels.tsa.statespace.sarimax import SARIMAX\n",
        "import matplotlib.pyplot as plt\n",
        "from hyperopt import fmin, tpe, hp, STATUS_OK, Trials\n",
        "from hyperopt.pyll.base import scope\n",
        "from fastapi import FastAPI, File, UploadFile, HTTPException, Request\n",
        "from fastapi.responses import StreamingResponse, HTMLResponse, JSONResponse, FileResponse\n",
        "from pydantic import BaseModel\n",
        "from fastapi.templating import Jinja2Templates\n",
        "from loguru import logger\n",
        "\n",
        "app = FastAPI()\n",
        "templates = Jinja2Templates(directory=\"templates\")\n",
        "\n",
        "df = pd.DataFrame()\n",
        "time_series = pd.Series(dtype=np.float64)\n",
        "\n",
        "class AnomalyRequest(BaseModel):\n",
        "    start_date: datetime\n",
        "    end_date: datetime\n",
        "\n",
        "# Логирование\n",
        "logger.add(\"file_{time}.log\", rotation=\"10 MB\")\n",
        "\n",
        "@app.exception_handler(Exception)\n",
        "async def global_exception_handler(request: Request, exc: Exception):\n",
        "    logger.error(f\"Unhandled error: {str(exc)}\")\n",
        "    return JSONResponse(status_code=500, content={\"message\": \"An internal server error occurred\"})\n",
        "\n",
        "@app.get(\"/\", response_class=HTMLResponse)\n",
        "async def read_root(request: Request):\n",
        "    logger.info(\"Loading index page\")\n",
        "    return templates.TemplateResponse(\"index.html\", {\"request\": request})\n",
        "\n",
        "@app.post(\"/upload/\")\n",
        "async def upload_file(file: UploadFile = File(...)):\n",
        "    logger.info(f\"Received file: {file.filename}\")\n",
        "    try:\n",
        "        contents = await file.read()\n",
        "        global df\n",
        "        # Определение разделителя по расширению файла\n",
        "        file_extension = file.filename.split('.')[-1].lower()\n",
        "        if file_extension == 'csv':\n",
        "            delimiter = ','\n",
        "        elif file_extension == 'tsv':\n",
        "            delimiter = '\\t'\n",
        "        else:\n",
        "            logger.error(\"Unsupported file type\")\n",
        "            raise HTTPException(status_code=400, detail=\"Unsupported file type. Only CSV and TSV are supported.\")\n",
        "\n",
        "        df = pd.read_csv(io.StringIO(contents.decode('utf-8')), sep=delimiter)\n",
        "        logger.info(f\"File read successfully: {file.filename}\")\n",
        "        if df.empty:\n",
        "            logger.error(\"Uploaded file is empty\")\n",
        "            raise HTTPException(status_code=400, detail=\"Uploaded file is empty\")\n",
        "        process_data()\n",
        "        logger.info(\"File processed successfully\")\n",
        "        return {\"filename\": file.filename}\n",
        "    except Exception as e:\n",
        "        logger.error(f\"Error processing file: {str(e)}\")\n",
        "        raise HTTPException(status_code=400, detail=f\"Error processing file: {str(e)}\")\n",
        "\n",
        "def process_data():\n",
        "    global df, time_series\n",
        "    try:\n",
        "        logger.info(\"Starting data processing\")\n",
        "        columns_to_drop = ['host', 'display_host', 'language', 'pid', 'agent_version', 'labels', 'app_name', 'app_id', 'account_id']\n",
        "        df = df.drop(columns=columns_to_drop)\n",
        "\n",
        "        df['point'] = pd.to_datetime(df['point'])\n",
        "        df = df.sort_values(by='point')\n",
        "\n",
        "        nan_indices = df['point'].isna()\n",
        "        df['point'] = df['point'].interpolate(method='linear')\n",
        "        df['point'] = df['point'].fillna(method='ffill')\n",
        "        for idx in df[nan_indices].index:\n",
        "            if idx > 0 and pd.isna(df.at[idx, 'point']):\n",
        "                df.at[idx, 'point'] = df.at[idx-1, 'point'] + timedelta(minutes=1)\n",
        "\n",
        "        df = df.fillna(method='ffill')\n",
        "        df = df.dropna(subset=['point', 'call_count'])\n",
        "        df['call_count'] = pd.to_numeric(df['call_count'], errors='coerce')\n",
        "        df = df.dropna(subset=['call_count'])\n",
        "        time_series = df.set_index('point')['call_count'].resample('T').sum()\n",
        "\n",
        "        if len(time_series) > 15000:\n",
        "            time_series = time_series[-15000:]\n",
        "        logger.info(\"Data processing complete\")\n",
        "    except Exception as e:\n",
        "        logger.error(f\"Error processing data: {str(e)}\")\n",
        "        raise HTTPException(status_code=500, detail=\"Error processing data\")\n",
        "\n",
        "@app.get(\"/anomalies_plot/\")\n",
        "async def get_anomalies_plot():\n",
        "    try:\n",
        "        if time_series.empty:\n",
        "            logger.error(\"No data available\")\n",
        "            raise HTTPException(status_code=400, detail=\"No data available\")\n",
        "\n",
        "        space = {\n",
        "            'p': scope.int(hp.quniform('p', 0, 3, 1)),\n",
        "            'd': scope.int(hp.quniform('d', 0, 2, 1)),\n",
        "            'q': scope.int(hp.quniform('q', 0, 3, 1)),\n",
        "            'P': scope.int(hp.quniform('P', 0, 1, 1)),\n",
        "            'D': scope.int(hp.quniform('D', 0, 1, 1)),\n",
        "            'Q': scope.int(hp.quniform('Q', 0, 1, 1))\n",
        "        }\n",
        "\n",
        "        def objective(params):\n",
        "            s = 30\n",
        "            model = SARIMAX(time_series, order=(params['p'], params['d'], params['q']),\n",
        "                            seasonal_order=(params['P'], params['D'], params['Q'], s))\n",
        "            results = model.fit(disp=False)\n",
        "            return {'loss': results.aic, 'status': STATUS_OK}\n",
        "\n",
        "        logger.info(\"Starting Bayesian optimization\")\n",
        "        trials = Trials()\n",
        "        best = fmin(fn=objective, space=space, algo=tpe.suggest, max_evals=10, trials=trials)\n",
        "\n",
        "        s = 30\n",
        "        model = SARIMAX(time_series, order=(best['p'], best['d'], best['q']),\n",
        "                        seasonal_order=(best['P'], best['D'], best['Q'], s))\n",
        "        results = model.fit(disp=False)\n",
        "        logger.info(f\"Bayesian optimization complete, best parameters: {best}\")\n",
        "\n",
        "        pred = results.get_prediction(start=0, end=len(time_series)-1)\n",
        "        pred_mean = pred.predicted_mean\n",
        "        pred_ci = pred.conf_int()\n",
        "\n",
        "        anomalies = time_series[(time_series < pred_ci.iloc[:, 0]) | (time_series > pred_ci.iloc[:, 1])]\n",
        "\n",
        "        plt.figure(figsize=(12, 6))\n",
        "        plt.plot(time_series, label='Observed')\n",
        "        plt.plot(pred_mean, color='red', label='Forecast')\n",
        "        plt.fill_between(pred_ci.index,\n",
        "                         pred_ci.iloc[:, 0],\n",
        "                         pred_ci.iloc[:, 1], color='k', alpha=0.2, label='Confidence Interval')\n",
        "        plt.scatter(anomalies.index, anomalies, color='red', label='Anomalies')\n",
        "        plt.legend()\n",
        "\n",
        "        buf = io.BytesIO()\n",
        "        plt.savefig(buf, format='jpg')\n",
        "        buf.seek(0)\n",
        "        logger.info(\"Anomalies plot created successfully\")\n",
        "\n",
        "        # Сохраняем файл графика\n",
        "        with open('anomalies_plot.jpg', 'wb') as f:\n",
        "            f.write(buf.getbuffer())\n",
        "\n",
        "        return FileResponse('anomalies_plot.jpg', media_type='image/jpeg', filename='anomalies_plot.jpg')\n",
        "    except Exception as e:\n",
        "        logger.error(f\"Error generating anomalies plot: {str(e)}\")\n",
        "        raise HTTPException(status_code=500, detail=\"Error generating anomalies plot\")\n",
        "\n",
        "@app.post(\"/result_graph/\")\n",
        "async def get_result_graph(request: AnomalyRequest):\n",
        "    try:\n",
        "        if time_series.empty:\n",
        "            logger.error(\"No data available\")\n",
        "            raise HTTPException(status_code=400, detail=\"No data available\")\n",
        "\n",
        "        start_date = request.start_date\n",
        "        end_date = request.end_date\n",
        "        filtered_data = time_series[(time_series.index >= start_date) & (time_series.index <= end_date)].to_frame(\n",
        "            name='call_count')\n",
        "\n",
        "        output = io.BytesIO()\n",
        "        with pd.ExcelWriter(output, engine='xlsxwriter') as writer:\n",
        "            filtered_data.to_excel(writer, index=True, sheet_name='Anomalies')\n",
        "        output.seek(0)\n",
        "\n",
        "        # Сохраняем результат в файл\n",
        "        with open('anomalies.xlsx', 'wb') as f:\n",
        "            f.write(output.getbuffer())\n",
        "\n",
        "        logger.info(\"Result Excel created successfully\")\n",
        "        return FileResponse('anomalies.xlsx', media_type='application/vnd.openxmlformats-officedocument.spreadsheetml.sheet', filename='anomalies.xlsx')\n",
        "    except Exception as e:\n",
        "        logger.error(f\"Error generating result graph: {str(e)}\")\n",
        "        raise HTTPException(status_code=500, detail=\"Error generating result graph\")\n",
        "'''\n",
        "\n",
        "with open('appy.py', 'w') as f:\n",
        "  f.write(codes)"
      ],
      "metadata": {
        "id": "bIPTRSjWCTYk"
      },
      "execution_count": null,
      "outputs": []
    },
    {
      "cell_type": "code",
      "source": [
        "!nohup uvicorn appy:app --reload &"
      ],
      "metadata": {
        "colab": {
          "base_uri": "https://localhost:8080/"
        },
        "id": "uEiTmWCN83hY",
        "outputId": "2fc14eb0-cecf-454a-b84b-6b8ff8336bfa"
      },
      "execution_count": null,
      "outputs": [
        {
          "output_type": "stream",
          "name": "stdout",
          "text": [
            "nohup: appending output to 'nohup.out'\n"
          ]
        }
      ]
    },
    {
      "cell_type": "code",
      "source": [
        "!pip install ngrok\n",
        "!pip install pyngrok"
      ],
      "metadata": {
        "colab": {
          "base_uri": "https://localhost:8080/"
        },
        "id": "lAPulrFL8_2N",
        "outputId": "162c7bb2-7474-4d48-a076-a398034e58a6"
      },
      "execution_count": null,
      "outputs": [
        {
          "output_type": "stream",
          "name": "stdout",
          "text": [
            "Requirement already satisfied: ngrok in /usr/local/lib/python3.10/dist-packages (1.3.0)\n",
            "Requirement already satisfied: pyngrok in /usr/local/lib/python3.10/dist-packages (7.1.6)\n",
            "Requirement already satisfied: PyYAML>=5.1 in /usr/local/lib/python3.10/dist-packages (from pyngrok) (6.0.1)\n"
          ]
        }
      ]
    },
    {
      "cell_type": "code",
      "source": [
        "!ngrok authtoken 2V9RmRYkzZlKfzcx4XTU90iQ9wb_419CUJymPbfTtrjUTaSB6"
      ],
      "metadata": {
        "colab": {
          "base_uri": "https://localhost:8080/"
        },
        "id": "x983fJd99pLO",
        "outputId": "b6d837de-093d-4d49-b997-5b6942a51e56"
      },
      "execution_count": null,
      "outputs": [
        {
          "output_type": "stream",
          "name": "stdout",
          "text": [
            "Authtoken saved to configuration file: /root/.config/ngrok/ngrok.yml\n"
          ]
        }
      ]
    },
    {
      "cell_type": "code",
      "source": [
        "from pyngrok import ngrok\n",
        "\n",
        "ngrok.kill()\n",
        "connection = ngrok.connect(8000)\n",
        "print(f\"Public URL: {connection.public_url}\")"
      ],
      "metadata": {
        "colab": {
          "base_uri": "https://localhost:8080/"
        },
        "id": "HlwuRksJ87ql",
        "outputId": "f862aa27-15f1-4d67-e031-65866dffda62"
      },
      "execution_count": null,
      "outputs": [
        {
          "output_type": "stream",
          "name": "stdout",
          "text": [
            "Public URL: https://4e41-34-106-73-183.ngrok-free.app\n"
          ]
        }
      ]
    },
    {
      "cell_type": "code",
      "source": [
        "!pkill uvicorn"
      ],
      "metadata": {
        "id": "jk_C-uS0-A8j"
      },
      "execution_count": null,
      "outputs": []
    }
  ]
}